{
 "cells": [
  {
   "cell_type": "code",
   "execution_count": 1,
   "metadata": {},
   "outputs": [],
   "source": [
    "import numpy as np\n",
    "import matplotlib.pyplot as plt\n",
    "import scipy.interpolate\n",
    "import pandas as pd\n",
    "from mpl_toolkits.mplot3d import Axes3D\n",
    "from scipy import stats\n",
    "%matplotlib inline\n",
    "q = 1.60217662e-19 # coulombs\n",
    "#m = 9.10938356e-31 #kg (electron)\n",
    "m = 6.6359437706294e-26 #(calcium)\n",
    "kB = 1.38064852e-23 # J/K\n",
    "f = 100.0e6 # Electrode frequency, in Hertz"
   ]
  },
  {
   "cell_type": "code",
   "execution_count": 2,
   "metadata": {},
   "outputs": [
    {
     "data": {
      "text/plain": [
       "-0.24252555523016206"
      ]
     },
     "execution_count": 2,
     "metadata": {},
     "output_type": "execute_result"
    }
   ],
   "source": [
    "np.random.normal(0, 1)"
   ]
  },
  {
   "cell_type": "code",
   "execution_count": 5,
   "metadata": {},
   "outputs": [],
   "source": [
    "T = 300.0\n",
    "from scipy import stats\n",
    "class Boltzmann(stats.rv_continuous):\n",
    "    def _pdf(self, v):\n",
    "        return m*v*np.exp((-1/2*m*v**2)/(kB*T))/(kB*T)\n",
    "\n",
    "Boltzmann_dist = Boltzmann(a=0)\n",
    "data_set = Boltzmann_dist.rvs(size = 10000)"
   ]
  },
  {
   "cell_type": "code",
   "execution_count": 6,
   "metadata": {},
   "outputs": [
    {
     "data": {
      "text/plain": [
       "(array([ 15.,  27.,  48.,  68.,  83., 110., 114., 147., 166., 154., 186.,\n",
       "        200., 215., 209., 227., 247., 234., 267., 235., 233., 267., 258.,\n",
       "        249., 282., 285., 287., 225., 282., 240., 230., 231., 242., 208.,\n",
       "        207., 202., 205., 200., 194., 163., 176., 144., 163., 143., 110.,\n",
       "        126., 135., 107.,  95., 104., 107.,  94.,  81.,  69.,  62.,  80.,\n",
       "         50.,  38.,  42.,  34.,  44.,  37.,  29.,  33.,  25.,  18.,  18.,\n",
       "         25.,  21.,  12.,  14.,  17.,  13.,  13.,   5.,   7.,  13.,   7.,\n",
       "          5.,   9.,   3.,   3.,   4.,   3.,   3.,   1.,   3.,   3.,   1.,\n",
       "          0.,   3.,   1.,   1.,   1.,   1.,   0.,   0.,   0.,   0.,   0.,\n",
       "          2.]),\n",
       " array([   1.33111482,   12.19593196,   23.06074909,   33.92556623,\n",
       "          44.79038336,   55.65520049,   66.52001763,   77.38483476,\n",
       "          88.24965189,   99.11446903,  109.97928616,  120.8441033 ,\n",
       "         131.70892043,  142.57373756,  153.4385547 ,  164.30337183,\n",
       "         175.16818896,  186.0330061 ,  196.89782323,  207.76264036,\n",
       "         218.6274575 ,  229.49227463,  240.35709177,  251.2219089 ,\n",
       "         262.08672603,  272.95154317,  283.8163603 ,  294.68117743,\n",
       "         305.54599457,  316.4108117 ,  327.27562884,  338.14044597,\n",
       "         349.0052631 ,  359.87008024,  370.73489737,  381.5997145 ,\n",
       "         392.46453164,  403.32934877,  414.1941659 ,  425.05898304,\n",
       "         435.92380017,  446.78861731,  457.65343444,  468.51825157,\n",
       "         479.38306871,  490.24788584,  501.11270297,  511.97752011,\n",
       "         522.84233724,  533.70715437,  544.57197151,  555.43678864,\n",
       "         566.30160578,  577.16642291,  588.03124004,  598.89605718,\n",
       "         609.76087431,  620.62569144,  631.49050858,  642.35532571,\n",
       "         653.22014285,  664.08495998,  674.94977711,  685.81459425,\n",
       "         696.67941138,  707.54422851,  718.40904565,  729.27386278,\n",
       "         740.13867991,  751.00349705,  761.86831418,  772.73313132,\n",
       "         783.59794845,  794.46276558,  805.32758272,  816.19239985,\n",
       "         827.05721698,  837.92203412,  848.78685125,  859.65166839,\n",
       "         870.51648552,  881.38130265,  892.24611979,  903.11093692,\n",
       "         913.97575405,  924.84057119,  935.70538832,  946.57020545,\n",
       "         957.43502259,  968.29983972,  979.16465686,  990.02947399,\n",
       "        1000.89429112, 1011.75910826, 1022.62392539, 1033.48874252,\n",
       "        1044.35355966, 1055.21837679, 1066.08319393, 1076.94801106,\n",
       "        1087.81282819]),\n",
       " <a list of 100 Patch objects>)"
      ]
     },
     "execution_count": 6,
     "metadata": {},
     "output_type": "execute_result"
    },
    {
     "data": {
      "image/png": "[encoded data removed]",
      "text/plain": [
       "<Figure size 432x288 with 1 Axes>"
      ]
     },
     "metadata": {},
     "output_type": "display_data"
    }
   ],
   "source": [
    "plt.hist(data_set, bins=100)"
   ]
  },
  {
   "cell_type": "code",
   "execution_count": 7,
   "metadata": {},
   "outputs": [
    {
     "data": {
      "text/plain": [
       "432.7244871308049"
      ]
     },
     "execution_count": 7,
     "metadata": {},
     "output_type": "execute_result"
    }
   ],
   "source": [
    "np.sqrt(3*kB*T/m)"
   ]
  },
  {
   "cell_type": "code",
   "execution_count": null,
   "metadata": {},
   "outputs": [],
   "source": []
  }
 ],
 "metadata": {
  "kernelspec": {
   "display_name": "Python 3",
   "language": "python",
   "name": "python3"
  },
  "language_info": {
   "codemirror_mode": {
    "name": "ipython",
    "version": 3
   },
   "file_extension": ".py",
   "mimetype": "text/x-python",
   "name": "python",
   "nbconvert_exporter": "python",
   "pygments_lexer": "ipython3",
   "version": "3.6.5"
  }
 },
 "nbformat": 4,
 "nbformat_minor": 2
}
