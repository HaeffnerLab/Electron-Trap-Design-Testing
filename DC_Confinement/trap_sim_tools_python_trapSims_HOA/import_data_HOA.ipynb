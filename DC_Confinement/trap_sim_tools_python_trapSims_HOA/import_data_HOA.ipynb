{
 "cells": [
  {
   "cell_type": "markdown",
   "metadata": {},
   "source": [
    "Apr 15, 2019 - smouradi - Code to convert the .bin files provided by Sandia to something more bemsolver-like"
   ]
  },
  {
   "cell_type": "code",
   "execution_count": 1,
   "metadata": {},
   "outputs": [],
   "source": [
    "import numpy as np\n",
    "import pickle"
   ]
  },
  {
   "cell_type": "code",
   "execution_count": 3,
   "metadata": {},
   "outputs": [],
   "source": [
    "fin = 'HOA_trap/RS1096_12400_1.bin'\n",
    "fout = 'HOA_trap/RS1096_12400_1.pkl'\n",
    "\n",
    "#from table 5 of HOA manual\n",
    "electrodeNames = ['GND','RF']+['G'+str(i+1).zfill(2) for i in range(8)]+ \\\n",
    "                            ['L'+str(i+1).zfill(2) for i in range(16)]+ \\\n",
    "                            ['Q'+str(i+1).zfill(2) for i in range(40)]+ \\\n",
    "                            ['T'+str(i+1).zfill(2) for i in range(6)]+ \\\n",
    "                            ['Y'+str(i+1).zfill(2) for i in range(24)]\n",
    "                \n",
    "#from table 4 of HOA manual    \n",
    "with open(fin,'rb') as f:\n",
    "    \n",
    "    #header\n",
    "    raw = f.read(160)\n",
    "    nElec = np.frombuffer(raw[8:16],np.int64)[0]\n",
    "    nXYZ = np.frombuffer(raw[16:40],np.int64)\n",
    "    vSets = np.frombuffer(raw[40:48],np.int64)[0]\n",
    "    stepSize = np.frombuffer(raw[96:120])*1e3 #step size in mm (=5um)\n",
    "    origin = np.frombuffer(raw[120:144])*1e3\n",
    "    roi = np.array([np.array([0,nXYZ[i]-1])*stepSize[i]+origin[i] for i in range(3)])\n",
    "    \n",
    "    #electrode mapping\n",
    "    raw = f.read(8*nElec)\n",
    "    electrodes = np.frombuffer(raw,np.int64)\n",
    "    \n",
    "    #data\n",
    "    raw = f.read()\n",
    "    data = np.frombuffer(raw)\n",
    "    dt = data.reshape(nElec,nXYZ[0]*nXYZ[1]*nXYZ[2])\n"
   ]
  },
  {
   "cell_type": "code",
   "execution_count": 4,
   "metadata": {},
   "outputs": [],
   "source": [
    "#making data structure\n",
    "gridXYZ = [np.linspace(roi[l,0],roi[l,1],nXYZ[l]) for l in range(3)]\n",
    "\n",
    "trap = {'X':gridXYZ[0],\n",
    "       'Y':gridXYZ[1],\n",
    "       'Z':gridXYZ[2]}\n",
    "\n",
    "for el in range(len(electrodeNames)):\n",
    "    trap[electrodeNames[el]] = {'name':electrodeNames[el],\n",
    "               'V':dt[el]}"
   ]
  },
  {
   "cell_type": "code",
   "execution_count": 5,
   "metadata": {},
   "outputs": [],
   "source": [
    "#from table 1\n",
    "trap['RF']['position']=[0,0]\n",
    "trap['Q19']['position']=[0,-1]\n",
    "trap['Q20']['position']=[0,1]\n",
    "trap['Q17']['position']=[-70,-1]\n",
    "trap['Q18']['position']=[-70,1]\n",
    "trap['Q15']['position']=[-140,-1]\n",
    "trap['Q16']['position']=[-140,1]\n",
    "trap['Q13']['position']=[-210,-1]\n",
    "trap['Q14']['position']=[-210,1]\n",
    "trap['Q11']['position']=[-280,-1]\n",
    "trap['Q12']['position']=[-280,1]\n",
    "trap['Q09']['position']=[-350,-1]\n",
    "trap['Q10']['position']=[-350,1]\n",
    "trap['Q07']['position']=[-420,-1]\n",
    "trap['Q08']['position']=[-420,1]\n",
    "trap['Q05']['position']=[-490,-1]\n",
    "trap['Q06']['position']=[-490,1]\n",
    "trap['Q03']['position']=[-560,-1]\n",
    "trap['Q04']['position']=[-560,1]\n",
    "trap['Q01']['position']=[-630,-1]\n",
    "trap['Q02']['position']=[-630,1]\n",
    "trap['Q21']['position']=[70,-1]\n",
    "trap['Q22']['position']=[70,1]\n",
    "trap['Q23']['position']=[140,-1]\n",
    "trap['Q24']['position']=[140,1]\n",
    "trap['Q25']['position']=[210,-1]\n",
    "trap['Q26']['position']=[210,1]\n",
    "trap['Q27']['position']=[280,-1]\n",
    "trap['Q28']['position']=[280,1]\n",
    "trap['Q29']['position']=[350,-1]\n",
    "trap['Q30']['position']=[350,1]\n",
    "trap['Q31']['position']=[420,-1]\n",
    "trap['Q32']['position']=[420,1]\n",
    "trap['Q33']['position']=[490,-1]\n",
    "trap['Q34']['position']=[490,1]\n",
    "trap['Q35']['position']=[560,-1]\n",
    "trap['Q36']['position']=[560,1]\n",
    "trap['Q37']['position']=[630,-1]\n",
    "trap['Q38']['position']=[630,1]\n",
    "trap['Q39']['position']=[0,-2]\n",
    "trap['Q40']['position']=[0,2]\n"
   ]
  },
  {
   "cell_type": "code",
   "execution_count": 21,
   "metadata": {},
   "outputs": [
    {
     "name": "stdout",
     "output_type": "stream",
     "text": [
      "RF\n",
      "Q15\n",
      "Q16\n",
      "Q17\n",
      "Q18\n",
      "Q19\n",
      "Q20\n",
      "Q21\n",
      "Q22\n",
      "Q23\n",
      "Q24\n",
      "Q39\n",
      "Q40\n"
     ]
    }
   ],
   "source": [
    "#pick out connected electrodes & save to file\n",
    "\n",
    "electrodesDAC = ['RF']+['Q'+str(i+1).zfill(2) for i in range(7,33)]+ ['Q39','Q40']\n",
    "electrodesCENTRAL = ['RF']+['Q'+str(i).zfill(2) for i in range(15,25)]+ ['Q39','Q40']\n",
    "print len(electrodesCENTRAL)\n",
    "\n",
    "fout = 'HOA_trap_v1/DAConly.pkl'\n",
    "f = open(fout,'wb')\n",
    "trap1 = {'X':gridXYZ[0],\n",
    "       'Y':gridXYZ[1],\n",
    "       'Z':gridXYZ[2],\n",
    "        'electrodes':{}}\n",
    "for e in electrodesDAC:\n",
    "    trap1['electrodes'][e] = trap[e]\n",
    "pickle.dump(trap1, f, -1)\n",
    "f.close() \n",
    "\n",
    "\n",
    "fout = 'HOA_trap_v1/CENTRALonly.pkl'\n",
    "f = open(fout,'wb')\n",
    "trap1 = {'X':gridXYZ[0],\n",
    "       'Y':gridXYZ[1],\n",
    "       'Z':gridXYZ[2],\n",
    "        'electrodes':{}}\n",
    "for e in electrodesCENTRAL:\n",
    "    print e\n",
    "    trap1['electrodes'][e] = trap[e]\n",
    "pickle.dump(trap1, f, -1)\n",
    "f.close() "
   ]
  },
  {
   "cell_type": "code",
   "execution_count": 17,
   "metadata": {},
   "outputs": [
    {
     "name": "stdout",
     "output_type": "stream",
     "text": [
      "[[1, 2], [3, 4]]\n"
     ]
    }
   ],
   "source": [
    "a = []\n",
    "a.append([1,2])\n",
    "a.append([3,4])\n",
    "print a"
   ]
  },
  {
   "cell_type": "code",
   "execution_count": 12,
   "metadata": {},
   "outputs": [
    {
     "data": {
      "text/plain": [
       "[0, 1, 2, 3, 4, 5, 6]"
      ]
     },
     "execution_count": 12,
     "metadata": {},
     "output_type": "execute_result"
    }
   ],
   "source": [
    "ne = 8\n",
    "range(0,ne-1)"
   ]
  },
  {
   "cell_type": "code",
   "execution_count": null,
   "metadata": {
    "collapsed": true
   },
   "outputs": [],
   "source": []
  }
 ],
 "metadata": {
  "kernelspec": {
   "display_name": "Python 3",
   "language": "python",
   "name": "python3"
  },
  "language_info": {
   "codemirror_mode": {
    "name": "ipython",
    "version": 3
   },
   "file_extension": ".py",
   "mimetype": "text/x-python",
   "name": "python",
   "nbconvert_exporter": "python",
   "pygments_lexer": "ipython3",
   "version": "3.6.5"
  }
 },
 "nbformat": 4,
 "nbformat_minor": 2
}
