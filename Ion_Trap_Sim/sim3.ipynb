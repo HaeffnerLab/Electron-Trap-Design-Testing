{
 "cells": [
  {
   "cell_type": "code",
   "execution_count": 1,
   "metadata": {},
   "outputs": [],
   "source": [
    "import numpy as np\n",
    "import matplotlib.pyplot as plt\n",
    "import scipy.interpolate\n",
    "import pandas as pd\n",
    "from mpl_toolkits.mplot3d import Axes3D\n",
    "from scipy import stats\n",
    "import time\n",
    "import trap_simulation as ts\n",
    "%matplotlib inline\n",
    "q = 1.60217662e-19 # coulombs\n",
    "#m = 9.10938356e-31 #kg (electron)\n",
    "m = 6.6359437706294e-26 #(calcium)\n",
    "kB = 1.38064852e-23 # J/K\n",
    "f = 100.0e6 # Electrode frequency, in Hertz\n"
   ]
  },
  {
   "cell_type": "code",
   "execution_count": 2,
   "metadata": {},
   "outputs": [
    {
     "name": "stdout",
     "output_type": "stream",
     "text": [
      "1  ion samples already simulated\n",
      "21  ion samples already simulated\n",
      "41  ion samples already simulated\n",
      "61  ion samples already simulated\n",
      "81  ion samples already simulated\n",
      "101  ion samples already simulated\n",
      "121  ion samples already simulated\n",
      "141  ion samples already simulated\n",
      "161  ion samples already simulated\n",
      "181  ion samples already simulated\n",
      "T:  300.0 Kelvin\n",
      "N_samples:  200\n",
      "Time step:  0.05 ns\n",
      "Max Sim Time:  20.0 us\n",
      "FWHM:  50.0 um\n",
      "Trapping Rate:  0.73 +/- 0.03139267430468452\n",
      "------\n",
      "1  ion samples already simulated\n",
      "21  ion samples already simulated\n",
      "41  ion samples already simulated\n",
      "61  ion samples already simulated\n",
      "81  ion samples already simulated\n",
      "101  ion samples already simulated\n",
      "121  ion samples already simulated\n",
      "141  ion samples already simulated\n",
      "161  ion samples already simulated\n",
      "181  ion samples already simulated\n",
      "T:  300.0 Kelvin\n",
      "N_samples:  200\n",
      "Time step:  0.1 ns\n",
      "Max Sim Time:  20.0 us\n",
      "FWHM:  50.0 um\n",
      "Trapping Rate:  0.795 +/- 0.028546015483776364\n",
      "------\n",
      "1  ion samples already simulated\n",
      "21  ion samples already simulated\n",
      "41  ion samples already simulated\n",
      "61  ion samples already simulated\n",
      "81  ion samples already simulated\n",
      "101  ion samples already simulated\n",
      "121  ion samples already simulated\n",
      "141  ion samples already simulated\n",
      "161  ion samples already simulated\n",
      "181  ion samples already simulated\n",
      "T:  300.0 Kelvin\n",
      "N_samples:  200\n",
      "Time step:  1.0 ns\n",
      "Max Sim Time:  20.0 us\n",
      "FWHM:  50.0 um\n",
      "Trapping Rate:  0.82 +/- 0.02716615541441225\n",
      "------\n",
      "1  ion samples already simulated\n",
      "21  ion samples already simulated\n",
      "41  ion samples already simulated\n",
      "61  ion samples already simulated\n",
      "81  ion samples already simulated\n",
      "101  ion samples already simulated\n",
      "121  ion samples already simulated\n",
      "141  ion samples already simulated\n",
      "161  ion samples already simulated\n",
      "181  ion samples already simulated\n",
      "T:  300.0 Kelvin\n",
      "N_samples:  200\n",
      "Time step:  2.3 ns\n",
      "Max Sim Time:  20.0 us\n",
      "FWHM:  50.0 um\n",
      "Trapping Rate:  0.89 +/- 0.022124646889837587\n",
      "------\n"
     ]
    }
   ],
   "source": [
    "N_ion_samples = 200\n",
    "T = 300.0\n",
    "t_max = 20.0e-6\n",
    "FWHM = 50.0e-6\n",
    "data_dt_dependence = []\n",
    "for dt in [0.5e-10, 1.0e-10, 1.0e-9, 2.3e-9]:\n",
    "    result = ts.Boltzmann_sim(N_ion_samples, T, dt, t_max, FWHM)\n",
    "    data_dt_dependence.append(result)\n"
   ]
  },
  {
   "cell_type": "code",
   "execution_count": null,
   "metadata": {},
   "outputs": [],
   "source": []
  }
 ],
 "metadata": {
  "kernelspec": {
   "display_name": "Python 3",
   "language": "python",
   "name": "python3"
  },
  "language_info": {
   "codemirror_mode": {
    "name": "ipython",
    "version": 3
   },
   "file_extension": ".py",
   "mimetype": "text/x-python",
   "name": "python",
   "nbconvert_exporter": "python",
   "pygments_lexer": "ipython3",
   "version": "3.5.2"
  }
 },
 "nbformat": 4,
 "nbformat_minor": 2
}
