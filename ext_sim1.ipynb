{
 "cells": [
  {
   "cell_type": "code",
   "execution_count": 1,
   "metadata": {},
   "outputs": [],
   "source": [
    "import numpy as np\n",
    "import matplotlib.pyplot as plt\n",
    "import scipy.interpolate\n",
    "import pandas as pd\n",
    "from mpl_toolkits.mplot3d import Axes3D\n",
    "from scipy import stats\n",
    "import time\n",
    "%matplotlib inline"
   ]
  },
  {
   "cell_type": "code",
   "execution_count": 6,
   "metadata": {},
   "outputs": [],
   "source": [
    "# physical parameters\n",
    "q = -1.60217662e-19 # coulombs\n",
    "m = 9.10938356e-31 #kg (electron)\n",
    "#m = 6.6359437706294e-26 #(calcium)\n",
    "kB = 1.38064852e-23 # J/K\n",
    "f = 0.0 # Electrode frequency, in Hertz"
   ]
  },
  {
   "cell_type": "markdown",
   "metadata": {},
   "source": [
    "### Note that the data is only one half of the plane. In order to get the E field data of the whole plane, i need to mirror the data to the other half to get the full information."
   ]
  },
  {
   "cell_type": "code",
   "execution_count": 3,
   "metadata": {},
   "outputs": [],
   "source": [
    "# loading E field (vector)\n",
    "data = np.loadtxt(\"etrap_extraction_40_-40_-200V_smoothExEy_1micron_half.fld\", skiprows = 2)"
   ]
  },
  {
   "cell_type": "code",
   "execution_count": 4,
   "metadata": {},
   "outputs": [
    {
     "name": "stdout",
     "output_type": "stream",
     "text": [
      "x_max =  2.0 mm\n",
      "y_max =  2.0 mm\n",
      "x_min =  0.0 mm\n",
      "y_min =  -2.0 mm\n",
      "spatial resolution x:  1.0 um\n",
      "spatial resolution y:  1.0 um\n"
     ]
    }
   ],
   "source": [
    "# manipulating E field data\n",
    "df = pd.DataFrame(data, columns=['x', 'y', 'z', 'Ex', 'Ey', 'Ez'])\n",
    "x_max, x_min = df.x.max(), df.x.min()\n",
    "y_max, y_min = df.y.max(), df.y.min()\n",
    "# print(x_max, x_min, y_max, y_min)\n",
    "# print(df.y.nunique())\n",
    "Nx, Ny = df.x.nunique() - 1, df.y.nunique() - 1 # numbers of intervals that divide each dimension\n",
    "dx, dy = (x_max-x_min)/Nx, (y_max-y_min)/Ny # interval size\n",
    "print(\"x_max = \", x_max*1.0e3, \"mm\")\n",
    "print(\"y_max = \", y_max*1.0e3, \"mm\")\n",
    "print(\"x_min = \", x_min*1.0e3, \"mm\")\n",
    "print(\"y_min = \", y_min*1.0e3, \"mm\")\n",
    "print(\"spatial resolution x: \", dx*1.0e6, \"um\")\n",
    "print(\"spatial resolution y: \", dy*1.0e6, \"um\")"
   ]
  },
  {
   "cell_type": "code",
   "execution_count": 5,
   "metadata": {},
   "outputs": [
    {
     "name": "stdout",
     "output_type": "stream",
     "text": [
      "x        0.000000\n",
      "y       -0.002000\n",
      "z        0.000000\n",
      "Ex      -3.447347\n",
      "Ey   -6494.252846\n",
      "Ez       0.000000\n",
      "Name: 0, dtype: float64\n"
     ]
    },
    {
     "data": {
      "image/png": "[encoded data removed]",
      "text/plain": [
       "<Figure size 432x288 with 1 Axes>"
      ]
     },
     "metadata": {
      "needs_background": "light"
     },
     "output_type": "display_data"
    }
   ],
   "source": [
    "electrode = df.loc[(np.abs(df[\"Ex\"]) < 1.0e-8) & (np.abs(df[\"Ey\"]) < 1.0e-8)]\n",
    "x_electrode = electrode.iloc[:, 0].values\n",
    "y_electrode = electrode.iloc[:, 1].values\n",
    "plt.plot(x_electrode, y_electrode, \"r.\")\n",
    "plt.xlim((x_min, x_max))\n",
    "plt.ylim((y_min, y_max))\n",
    "print(df.iloc[0, :])"
   ]
  },
  {
   "cell_type": "code",
   "execution_count": 16,
   "metadata": {},
   "outputs": [],
   "source": [
    "def get_row_index(x, y):\n",
    "    # given spatial coordinates x and y, \n",
    "    # output the index of the row corresponding to the coordinates\n",
    "    # this only works for the first quadrant\n",
    "    if x > x_max:\n",
    "        x = x_max\n",
    "    if x < x_min:\n",
    "        x = x_min\n",
    "    if y > y_max:\n",
    "        y = y_max\n",
    "    if y < y_min:\n",
    "        y = y_min\n",
    "    i = int((x - x_min) / dx)\n",
    "    j = int((y - y_min) / dy)\n",
    "    return i * (Nx + 1) + j\n",
    "# n = get_row_index(-0.000381, 0.000275)\n",
    "# print(n)\n",
    "# print(df.iloc[n, :])\n",
    "\n",
    "def grad_Ex(x, y):\n",
    "    # return the gradient of x component of electric field at position (x, y);\n",
    "    # used to interpolate E field between grid points\n",
    "    # note that x, y are supposed to be on grid intersections.\n",
    "    # Works for all four quadrants\n",
    "    x = abs(x)\n",
    "    n = get_row_index(x, y)\n",
    "    if x == x_max:\n",
    "        nx = get_row_index(x-dx, y)\n",
    "        x_deriv = (df.iloc[n,3] - df.iloc[nx,3])/(dx)\n",
    "    else:\n",
    "        nx = get_row_index(x+dx, y)\n",
    "        x_deriv = (df.iloc[nx,3] - df.iloc[n,3])/(dx)\n",
    "    if y == y_max:\n",
    "        ny = get_row_index(x, y-dy)\n",
    "        y_deriv = (df.iloc[n,3] - df.iloc[ny,3])/(dy)\n",
    "    else:\n",
    "        ny = get_row_index(x, y+dy)\n",
    "        y_deriv = (df.iloc[ny,3] - df.iloc[n,3])/(dy)\n",
    "    return (x_deriv, y_deriv)\n",
    "\n",
    "def grad_Ey(x, y):\n",
    "    # return the gradient of x component of electric field at position (x, y);\n",
    "    # used to interpolate E field between grid points\n",
    "    # note that x, y are supposed to be on grid intersections\n",
    "    x = abs(x)\n",
    "    n = get_row_index(x, y)\n",
    "    if x == x_max:\n",
    "        nx = get_row_index(x-dx, y)\n",
    "        x_deriv = (df.iloc[n,4] - df.iloc[nx,4])/(dx)\n",
    "    else:\n",
    "        nx = get_row_index(x+dx, y)\n",
    "        x_deriv = (df.iloc[nx,4] - df.iloc[n,4])/(dx)\n",
    "    if y == y_max:\n",
    "        ny = get_row_index(x, y-dy)\n",
    "        y_deriv = (df.iloc[n,4] - df.iloc[ny,4])/(dy)\n",
    "    else:\n",
    "        ny = get_row_index(x, y+dy)\n",
    "        y_deriv = (df.iloc[ny,4] - df.iloc[n,4])/(dy)\n",
    "    return (x_deriv, y_deriv)\n",
    "\n",
    "\n",
    "def E_field(x, y, t):\n",
    "    # return the electric field at position (x, y) at time t\n",
    "    x = abs(x)\n",
    "    n = get_row_index(x, y)\n",
    "    x0, y0 = df.iloc[n, 0], df.iloc[n, 1]\n",
    "    Ex0, Ey0 = df.iloc[n, 3], df.iloc[n, 4]\n",
    "    Ex = Ex0 + grad_Ex(x0, y0)[0] * (x-x0) + grad_Ex(x0, y0)[1] * (y-y0)\n",
    "    Ey = Ey0 + grad_Ey(x0, y0)[0] * (x-x0) + grad_Ey(x0, y0)[1] * (y-y0)\n",
    "    return (Ex*np.cos(2*np.pi*f*t), Ey*np.cos(2*np.pi*f*t))\n",
    "\n",
    "def acceleration(x, y, t):\n",
    "    Ex, Ey= E_field(x, y, t)\n",
    "    return np.array([Ex*q/m, Ey*q/m])\n",
    "\n",
    "def within_boundary(x, y):\n",
    "    x= abs(x)\n",
    "    # check whether the x, y, z coordinate of an electron is within\n",
    "    # our area of interest.\n",
    "    n = get_row_index(x, y)\n",
    "    #return x<x_max and x>x_min and y<y_max and y>y_min\n",
    "    return x<x_max and y<y_max and y>y_min and \\\n",
    "(abs(df.iloc[n, 3]) >= 1.0e-7 or abs(df.iloc[n, 4]) >= 1.0e-7) \n",
    "\n",
    "def hit_electrodes(x, y):\n",
    "    x = abs(x)\n",
    "    n = get_row_index(x, y)\n",
    "    return (abs(df.iloc[n, 3]) <= 1.0e-7 or\\\n",
    "            abs(df.iloc[n, 4]) <= 1.0e-7) \n",
    "\n",
    "def rk4(y, time, dt, derivs): \n",
    "    f0 = derivs(y, time)\n",
    "    fhalf_bar = derivs(y+f0*dt/2, time+dt) \n",
    "    fhalf = derivs(y+fhalf_bar*dt/2, time+dt)\n",
    "    f1_bar= derivs(y+fhalf*dt, time+dt)\n",
    "    y_next = y+dt/6*(f0+2*fhalf_bar+2*fhalf+f1_bar)\n",
    "    return y_next\n",
    "\n",
    "def E_field_sim(state, time):\n",
    "    # this is a function that takes in a 2-element array state and a number time.\n",
    "    # state[0] is current position and state[1] is current velocity.\n",
    "    # it calculates the derivative of state, and returns a 2-element array,\n",
    "    # with the 0th element being derivative of position and the 1th being \n",
    "    # the acceleration\n",
    "    g0 = state[1]\n",
    "    x, y = state[0]\n",
    "    g1 = acceleration(x, y, time)\n",
    "    return np.array([g0, g1])\n",
    "\n",
    "def trapped(rou, phi, v, theta, dt, t_max):\n",
    "\n",
    "    electron_pos=np.array([rou*np.cos(phi), rou*np.sin(phi)])\n",
    "    electron_vel = np.array([v*np.cos(theta), v*np.sin(theta)])\n",
    "    state = np.array([electron_pos, electron_vel])\n",
    "    t = 0.0 # the time variable\n",
    "    trapped = True\n",
    "    \n",
    "    # actual simulation\n",
    "    while t < t_max:\n",
    "        x, y = state[0]\n",
    "        if not within_boundary(x, y):\n",
    "            trapped = False\n",
    "            break\n",
    "        state = rk4(state, t, dt, E_field_sim)\n",
    "        t += dt\n",
    "    return trapped\n",
    "\n",
    "def extracted(rou, phi, v, theta, dt, t_max):\n",
    "    electron_pos=np.array([rou*np.cos(phi), rou*np.sin(phi)])\n",
    "    electron_vel = np.array([v*np.cos(theta), v*np.sin(theta)])\n",
    "    state = np.array([electron_pos, electron_vel])\n",
    "    t = 0.0 # the time variable\n",
    "    extracted = False\n",
    "    \n",
    "    # actual simulation\n",
    "    while t < t_max:\n",
    "        x, y = state[0]\n",
    "        if hit_electrodes(x, y):\n",
    "            break\n",
    "        if y > y_max:\n",
    "            extracted = True\n",
    "            break\n",
    "        if not within_boundary(x, y):\n",
    "            break\n",
    "        state = rk4(state, t, dt, E_field_sim)\n",
    "        t += dt\n",
    "    return extracted\n",
    "\n",
    "def Boltzmann_sim(N_ion_samples, T, dt, t_max, FWHM):\n",
    "    # Simulate ion in the trap with initial condition characterized by a \n",
    "    # Boltzmann distribution of temperature T. The simulation (using RK4) step size \n",
    "    # is dt, and the maximum time duration of the simulation is t_max. The initial position\n",
    "    # of the ion is characterized by a Gaussian distribution with full-width-half max FWHM.\n",
    "    # the function returns a list of length N_ion_sample. \n",
    "    # The ith element of the list is 1 iff the ith ion is successfully trapped and is 0 if \n",
    "    # the ion escaped.\n",
    "    class Boltzmann(stats.rv_continuous):\n",
    "        def _pdf(self, v):\n",
    "            return m*v*np.exp((-1/2*m*v**2)/(kB*T))/(kB*T)\n",
    "    result = []\n",
    "    Boltzmann_dist = Boltzmann(a=0)\n",
    "    for i in range(N_ion_samples):\n",
    "        rou = abs(np.random.normal(0, FWHM/2.355))\n",
    "        phi = np.random.uniform(0, np.pi*2)\n",
    "        v = Boltzmann_dist.rvs()\n",
    "        theta = np.random.uniform(0, np.pi*2)\n",
    "        if trapped(rou, phi, v, theta, dt, t_max):\n",
    "            result.append(1)\n",
    "        else:\n",
    "            result.append(0)\n",
    "        if i % 20 == 0:\n",
    "            print(i+1, \" electron samples already simulated\")\n",
    "    print(\"T: \", T, \"Kelvin\")\n",
    "    print(\"N_samples: \", N_ion_samples)\n",
    "    print(\"Time step: \", dt*1.0e9, \"ns\")\n",
    "    print(\"Max Sim Time: \", t_max*1.0e6, \"us\")\n",
    "    print(\"FWHM: \", FWHM*1.0e6, \"um\")\n",
    "    print(\"Trapping Rate: \", np.mean(result), \"+/-\", np.std(result)/np.sqrt(len(result)))\n",
    "    print(\"------\")\n",
    "    return result\n",
    "    \n",
    "    "
   ]
  },
  {
   "cell_type": "markdown",
   "metadata": {},
   "source": [
    "## Single Electron Simulation"
   ]
  },
  {
   "cell_type": "code",
   "execution_count": 11,
   "metadata": {},
   "outputs": [
    {
     "name": "stdout",
     "output_type": "stream",
     "text": [
      "out of bound\n",
      "x_max =  2000.0 um\n",
      "y_max =  2000.0 um\n",
      "x_min =  0.0 um\n",
      "y_min =  -2000.0 um\n",
      "spatial resolution x:  1.0 um\n",
      "spatial resolution y:  1.0 um\n",
      "Time step for simulation:  0.01 ns\n",
      "Simulation time duration:  0.001 us\n",
      "time: 0.22198104858398438\n"
     ]
    },
    {
     "data": {
      "text/plain": [
       "Text(0, 0.5, 'y (um)')"
      ]
     },
     "execution_count": 11,
     "metadata": {},
     "output_type": "execute_result"
    },
    {
     "data": {
      "image/png": "[encoded data removed]",
      "text/plain": [
       "<Figure size 432x288 with 1 Axes>"
      ]
     },
     "metadata": {
      "needs_background": "light"
     },
     "output_type": "display_data"
    },
    {
     "data": {
      "image/png": "[encoded data removed]",
      "text/plain": [
       "<Figure size 432x288 with 1 Axes>"
      ]
     },
     "metadata": {
      "needs_background": "light"
     },
     "output_type": "display_data"
    },
    {
     "data": {
      "image/png": "[encoded data removed]",
      "text/plain": [
       "<Figure size 432x288 with 1 Axes>"
      ]
     },
     "metadata": {
      "needs_background": "light"
     },
     "output_type": "display_data"
    }
   ],
   "source": [
    "start = time.time()\n",
    "# simulation configuration\n",
    "dt = 1.0e-11 #s\n",
    "t_max = 5.0e-8 # maximum time duration of the simulation\n",
    "\n",
    "T = 300.0 # kelvin\n",
    "rou = 0.0 # distance from initial position to the trap center\n",
    "phi = 0.0 # direction of initial position vector\n",
    "#v = np.sqrt(2*kB*T/m) #speed\n",
    "v = 0.0\n",
    "theta = 0.0 # direction of initial velocity\n",
    "\n",
    "electron_pos=np.array([rou*np.cos(phi), rou*np.sin(phi)])\n",
    "electron_vel = np.array([v*np.cos(theta), v*np.sin(theta)])\n",
    "state = np.array([electron_pos, electron_vel])\n",
    "t = 0.0 # the time variable\n",
    "x_traj = []\n",
    "y_traj = []\n",
    "t_s = []\n",
    "trapped = True\n",
    "\n",
    "# actual simulation\n",
    "while t < t_max:\n",
    "    x, y = state[0]\n",
    "    if not within_boundary(x, y):\n",
    "        print(\"out of bound\")\n",
    "        trapped = False\n",
    "        break\n",
    "    x_traj.append(x)\n",
    "    y_traj.append(y)\n",
    "    t_s.append(t)\n",
    "    state = rk4(state, t, dt, E_field_sim)\n",
    "    t += dt\n",
    "x_traj, y_traj, t_s = np.array(x_traj), np.array(y_traj), np.array(t_s)\n",
    "\n",
    "print(\"x_max = \", x_max*1.0e6, \"um\")\n",
    "print(\"y_max = \", y_max*1.0e6, \"um\")\n",
    "print(\"x_min = \", x_min*1.0e6, \"um\")\n",
    "print(\"y_min = \", y_min*1.0e6, \"um\")\n",
    "print(\"spatial resolution x: \", dx*1.0e6, \"um\")\n",
    "print(\"spatial resolution y: \", dy*1.0e6, \"um\")\n",
    "print(\"Time step for simulation: \", dt*1.0e9, \"ns\")\n",
    "print(\"Simulation time duration: \", round(t*1.0e6, 3), \"us\")\n",
    "end = time.time()\n",
    "print(\"time:\", end-start)\n",
    "\n",
    "plt.figure()\n",
    "plt.plot(t_s*1.0e6, x_traj*1.0e6)\n",
    "plt.xlabel(\"Time (us)\")\n",
    "plt.ylabel(\"x (um)\")\n",
    "\n",
    "plt.figure()\n",
    "plt.plot(t_s*1.0e6, y_traj*1.0e6)\n",
    "plt.xlabel(\"Time (us)\")\n",
    "plt.ylabel(\"y (um)\")\n",
    "\n",
    "plt.figure()\n",
    "plt.plot(x_traj*1.0e6, y_traj*1.0e6)\n",
    "plt.xlabel(\"x (um)\")\n",
    "plt.ylabel(\"y (um)\")"
   ]
  },
  {
   "cell_type": "markdown",
   "metadata": {},
   "source": [
    "## $\\rho$ Dependence"
   ]
  },
  {
   "cell_type": "code",
   "execution_count": 17,
   "metadata": {},
   "outputs": [
    {
     "name": "stdout",
     "output_type": "stream",
     "text": [
      "Simulating T =  300.0 kelvin\n",
      "The result for T =  300.0 kelvin:\n"
     ]
    },
    {
     "data": {
      "image/png": "[encoded data removed]",
      "text/plain": [
       "<Figure size 432x288 with 1 Axes>"
      ]
     },
     "metadata": {
      "needs_background": "light"
     },
     "output_type": "display_data"
    }
   ],
   "source": [
    "dt = 1.0e-11 #s\n",
    "t_max = 5.0e-8 # maximum time duration of the simulation\n",
    "\n",
    "#initial condition\n",
    "rou_s = np.linspace(0, 300.0e-6, 100)\n",
    "N_phi = 9\n",
    "N_theta = 37\n",
    "\n",
    "# A dictionary, taking temperature as key and the value is a \n",
    "# list of success rates correspond to each rou in rou_s\n",
    "success_rate = dict() \n",
    "errors = dict()\n",
    "for T in [300.0]:\n",
    "    v = np.sqrt(kB*T/m)\n",
    "    success_rate[T] = [] \n",
    "    errors[T] = []\n",
    "    print(\"Simulating T = \", T, \"kelvin\")\n",
    "    for rou in rou_s:\n",
    "        result = []\n",
    "        for phi in np.linspace(0, np.pi/2, N_phi):\n",
    "            for theta in np.linspace(0, np.pi*2, N_theta):\n",
    "                if extracted(rou, phi, v, theta, dt, t_max):\n",
    "                    result.append(1)\n",
    "                else:\n",
    "                    result.append(0)\n",
    "        success_rate[T].append(np.mean(result))\n",
    "        errors[T].append(np.std(result)/np.sqrt(N_phi*N_theta))\n",
    "    print(\"The result for T = \", T, \"kelvin:\")\n",
    "    plt.figure()\n",
    "    plt.plot(rou_s*1.0e6, success_rate[T], 'rx')\n",
    "    "
   ]
  },
  {
   "cell_type": "code",
   "execution_count": 20,
   "metadata": {},
   "outputs": [
    {
     "data": {
      "text/plain": [
       "(0, 1.1)"
      ]
     },
     "execution_count": 20,
     "metadata": {},
     "output_type": "execute_result"
    },
    {
     "data": {
      "image/png": "[encoded data removed]",
      "text/plain": [
       "<Figure size 432x288 with 1 Axes>"
      ]
     },
     "metadata": {
      "needs_background": "light"
     },
     "output_type": "display_data"
    }
   ],
   "source": [
    "plt.plot(rou_s*1.0e6, success_rate[T], 'rx')\n",
    "plt.title(\"Rho Dependence of Successful Extraction Rate for 300K\")\n",
    "plt.xlabel(\"Rho\")\n",
    "plt.ylabel(\"Successful Extraction Rate\")\n",
    "plt.ylim(0, 1.1)"
   ]
  },
  {
   "cell_type": "code",
   "execution_count": null,
   "metadata": {},
   "outputs": [],
   "source": []
  }
 ],
 "metadata": {
  "kernelspec": {
   "display_name": "Python 3",
   "language": "python",
   "name": "python3"
  },
  "language_info": {
   "codemirror_mode": {
    "name": "ipython",
    "version": 3
   },
   "file_extension": ".py",
   "mimetype": "text/x-python",
   "name": "python",
   "nbconvert_exporter": "python",
   "pygments_lexer": "ipython3",
   "version": "3.5.2"
  }
 },
 "nbformat": 4,
 "nbformat_minor": 2
}
