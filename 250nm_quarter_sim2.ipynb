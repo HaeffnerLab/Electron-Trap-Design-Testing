{
 "cells": [
  {
   "cell_type": "code",
   "execution_count": 3,
   "metadata": {},
   "outputs": [],
   "source": [
    "import numpy as np\n",
    "import matplotlib.pyplot as plt\n",
    "import scipy.interpolate\n",
    "import pandas as pd\n",
    "from mpl_toolkits.mplot3d import Axes3D\n",
    "from scipy import stats\n",
    "import time\n",
    "%matplotlib inline\n",
    "import trap_util as tu\n",
    "from trap_util import trap\n",
    "from trap_util import quarter_trap\n",
    "from trap_util import half_trap\n",
    "# physical parameters\n",
    "q = -1.60217662e-19 # coulombs\n",
    "m = 9.10938356e-31 #kg (electron)\n",
    "#m = 6.6359437706294e-26 #(calcium)\n",
    "kB = 1.38064852e-23 # J/K\n",
    "f = 1.5e9 # Electrode frequency, in Hertz"
   ]
  },
  {
   "cell_type": "markdown",
   "metadata": {},
   "source": [
    "### Note that the data is only a quarter of the plane. In order to get the E field data of the whole plane, i need to mirror the data to the other three quadrants to get the full information."
   ]
  },
  {
   "cell_type": "code",
   "execution_count": null,
   "metadata": {},
   "outputs": [],
   "source": [
    "# loading E field (vector)\n",
    "data = np.loadtxt(\"etrap_65V_1p5GHz_realsmoothExEy_250nm_30passes_quarter.fld\", skiprows = 2)"
   ]
  },
  {
   "cell_type": "code",
   "execution_count": null,
   "metadata": {},
   "outputs": [],
   "source": [
    "# manipulating E field data\n",
    "df = pd.DataFrame(data, columns=['x', 'y', 'z', 'Ex', 'Ey', 'Ez'])\n",
    "x_max, x_min = df.x.max(), df.x.min()\n",
    "y_max, y_min = df.y.max(), df.y.min()\n",
    "# print(x_max, x_min, y_max, y_min)\n",
    "# print(df.y.nunique())\n",
    "Nx, Ny = df.x.nunique() - 1, df.y.nunique() - 1 # numbers of intervals that divide each dimension\n",
    "dx, dy = (x_max-x_min)/Nx, (y_max-y_min)/Ny # interval size\n",
    "print(\"x_max = \", x_max*1.0e3, \"mm\")\n",
    "print(\"y_max = \", y_max*1.0e3, \"mm\")\n",
    "print(\"x_min = \", x_min*1.0e3, \"mm\")\n",
    "print(\"y_min = \", y_min*1.0e3, \"mm\")\n",
    "print(\"spatial resolution x: \", dx*1.0e6, \"um\")\n",
    "print(\"spatial resolution y: \", dy*1.0e6, \"um\")"
   ]
  },
  {
   "cell_type": "code",
   "execution_count": null,
   "metadata": {},
   "outputs": [],
   "source": [
    "trap_RF = quarter_trap(df, x_max, x_min, y_max, y_min, Nx, Ny, dx, dy, f=f) "
   ]
  },
  {
   "cell_type": "code",
   "execution_count": null,
   "metadata": {},
   "outputs": [],
   "source": [
    "n = trap_RF.get_row_index(0.25e-6, 0)\n",
    "trap_RF.df.iloc[n, :]"
   ]
  },
  {
   "cell_type": "markdown",
   "metadata": {},
   "source": [
    "## Single Particle Simulation"
   ]
  },
  {
   "cell_type": "code",
   "execution_count": null,
   "metadata": {},
   "outputs": [],
   "source": [
    "start = time.time()\n",
    "# simulation configuration\n",
    "dt = 1.0e-11 #s\n",
    "t_max = 5.0e-8 # maximum time duration of the simulation\n",
    "\n",
    "T = 300.0 # kelvin\n",
    "rou = 0.0 # distance from initial position to the trap center\n",
    "phi = 0.0 # direction of initial position vector\n",
    "v = 0.0 #speed\n",
    "theta = 0.0 # direction of initial velocity\n",
    "\n",
    "result = trap_RF.traj(rou, phi, v, theta, dt, t_max)\n",
    "t_s = np.array(result[0])\n",
    "x_traj = np.array(result[1])\n",
    "y_traj = np.array(result[2])\n",
    "\n",
    "print(\"x_max = \", x_max*1.0e6, \"um\")\n",
    "print(\"y_max = \", y_max*1.0e6, \"um\")\n",
    "print(\"x_min = \", x_min*1.0e6, \"um\")\n",
    "print(\"y_min = \", y_min*1.0e6, \"um\")\n",
    "print(\"spatial resolution x: \", dx*1.0e6, \"um\")\n",
    "print(\"spatial resolution y: \", dy*1.0e6, \"um\")\n",
    "print(\"Time step for simulation: \", dt*1.0e9, \"ns\")\n",
    "end = time.time()\n",
    "print(\"time:\", end-start)\n",
    "\n",
    "plt.figure()\n",
    "plt.plot(t_s*1.0e6, x_traj*1.0e6)\n",
    "plt.xlabel(\"Time (us)\")\n",
    "plt.ylabel(\"x (um)\")\n",
    "\n",
    "plt.figure()\n",
    "plt.plot(t_s*1.0e6, y_traj*1.0e6)\n",
    "plt.xlabel(\"Time (us)\")\n",
    "plt.ylabel(\"y (um)\")\n",
    "\n",
    "plt.figure()\n",
    "plt.plot(x_traj*1.0e6, y_traj*1.0e6)\n",
    "plt.xlabel(\"x (um)\")\n",
    "plt.ylabel(\"y (um)\")"
   ]
  },
  {
   "cell_type": "markdown",
   "metadata": {},
   "source": [
    "## 300K t_max dependence"
   ]
  },
  {
   "cell_type": "code",
   "execution_count": null,
   "metadata": {},
   "outputs": [],
   "source": [
    "N = 200\n",
    "T = 300.0\n",
    "dt = 1.0e-11\n",
    "FWHM = 50.0e-6\n",
    "t_max_dependence= dict()\n",
    "error_t_max_dependence = dict()\n",
    "for t_max in [5.0e-8, 20.0e-8, 40.0e-8]:\n",
    "    trap_rate = 0\n",
    "    result_list = trap_RF.Boltzmann_sim(N, T, dt, t_max, FWHM)\n",
    "    trap_rate = sum(result_list)/N\n",
    "    error_trap_rate = np.std(result_list)/np.sqrt(N)\n",
    "    t_max_dependence[t_max] = trap_rate\n",
    "    error_t_max_dependence[t_max] = error_trap_rate"
   ]
  },
  {
   "cell_type": "code",
   "execution_count": null,
   "metadata": {},
   "outputs": [],
   "source": []
  }
 ],
 "metadata": {
  "kernelspec": {
   "display_name": "Python 3",
   "language": "python",
   "name": "python3"
  },
  "language_info": {
   "codemirror_mode": {
    "name": "ipython",
    "version": 3
   },
   "file_extension": ".py",
   "mimetype": "text/x-python",
   "name": "python",
   "nbconvert_exporter": "python",
   "pygments_lexer": "ipython3",
   "version": "3.5.2"
  }
 },
 "nbformat": 4,
 "nbformat_minor": 2
}
