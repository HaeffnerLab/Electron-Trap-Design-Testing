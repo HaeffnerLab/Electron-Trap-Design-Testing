{
 "cells": [
  {
   "cell_type": "code",
   "execution_count": 1,
   "metadata": {
    "collapsed": true
   },
   "outputs": [],
   "source": [
    "import numpy as np\n",
    "from matplotlib import pyplot as plt\n",
    "from gapless import World\n",
    "import matplotlib.cm as cm\n",
    "import matplotlib as mpl\n",
    "import matplotlib.pylab as pl\n"
   ]
  },
  {
   "cell_type": "code",
   "execution_count": 2,
   "metadata": {
    "collapsed": true
   },
   "outputs": [],
   "source": [
    "#build electrodes\n",
    "\n",
    "a = 1088e-6 #central electrode 'radius'\n",
    "b = 1912e-6 #width of compensation electrodes\n",
    "\n",
    "include_center = 1\n",
    "celec_inner = 126e-6 #center electrode inner diameter\n",
    "celec_outer = 600e-6 #center electrode outer diameter\n",
    "\n",
    "r = a + b\n",
    "it = 100 #number of iterations for boxes\n",
    "\n",
    "h = r/((2**.5)*it) #outer step size\n",
    "\n",
    "shorts = ['9']\n",
    "\n",
    "# y coords of the initial dc electrodes\n",
    "y_ranges =  np.array([(0, h),\n",
    "            (a,(r**2-h**2)**.5),\n",
    "            (a,(r**2-h**2)**.5),\n",
    "            (0, h),\n",
    "            (0,-h),\n",
    "            (-a,-(r**2-h**2)**.5),\n",
    "            (-a,-(r**2-h**2)**.5),\n",
    "            (0, -h),\n",
    "            ])\n",
    "\n",
    "# x coords of the initial dc electrodes\n",
    "x_ranges =  np.array([(a, (r**2-h**2)**.5),\n",
    "            (0,h),\n",
    "            (0,-h),\n",
    "            (-a, -(r**2-h**2)**.5),\n",
    "            (-a, -(r**2-h**2)**.5),\n",
    "            (0, -h),\n",
    "            (0, h),\n",
    "            (a, (r**2-h**2)**.5),\n",
    "            ])\n",
    "\n",
    "\n",
    "\n",
    "y_ranges1 = []\n",
    "x_ranges1 = []\n",
    "y_ranges2 = []\n",
    "x_ranges2 = []\n",
    "y_ranges3 = []\n",
    "x_ranges3 = []\n",
    "y_ranges4 = []\n",
    "x_ranges4 = []\n",
    "y_ranges5 = []\n",
    "x_ranges5 = []\n",
    "y_ranges6 = []\n",
    "x_ranges6 = []\n",
    "y_ranges7 = []\n",
    "x_ranges7 = []\n",
    "y_ranges8 = []\n",
    "x_ranges8 = []\n",
    "\n",
    "#coordinates of iterated electrodes\n",
    "for i in range(1,it-1):\n",
    "    y_ranges1.append((h*(i),h*(i+1)))\n",
    "    x_ranges2.append((h*(i),h*(i+1)))\n",
    "    x_ranges3.append((-h*(i),-h*(i+1)))\n",
    "    y_ranges4.append((h*(i),h*(i+1)))\n",
    "    y_ranges5.append((-h*(i),-h*(i+1)))\n",
    "    x_ranges6.append((-h*(i),-h*(i+1)))\n",
    "    x_ranges7.append((h*(i),h*(i+1)))\n",
    "    y_ranges8.append((-h*(i),-h*(i+1)))\n",
    "    if i < it*a/r:\n",
    "        x_ranges1.append(((a**2-(h*(i))**2)**.5, (r**2-(h*(i+1))**2)**.5))\n",
    "        y_ranges2.append(((a**2-(h*(i))**2)**.5, (r**2-(h*(i+1))**2)**.5))\n",
    "        y_ranges3.append(((a**2-(h*(i))**2)**.5, (r**2-(h*(i+1))**2)**.5))  \n",
    "        x_ranges4.append((-(a**2-(h*(i))**2)**.5, -(r**2-(h*(i+1))**2)**.5))\n",
    "        x_ranges5.append((-(a**2-(h*(i))**2)**.5, -(r**2-(h*(i+1))**2)**.5))\n",
    "        y_ranges6.append((-(a**2-(h*(i))**2)**.5, -(r**2-(h*(i+1))**2)**.5))\n",
    "        y_ranges7.append((-(a**2-(h*(i))**2)**.5, -(r**2-(h*(i+1))**2)**.5))\n",
    "        x_ranges8.append(((a**2-(h*(i))**2)**.5, (r**2-(h*(i+1))**2)**.5))   \n",
    "    else:\n",
    "        x_ranges1.append((h*(i+1), (r**2-(h*(i+1))**2)**.5))\n",
    "        y_ranges2.append((h*(i+1), (r**2-(h*(i+1))**2)**.5))         \n",
    "        y_ranges3.append((h*(i+1), (r**2-(h*(i+1))**2)**.5))  \n",
    "        x_ranges4.append((-h*(i+1), -(r**2-(h*(i+1))**2)**.5))\n",
    "        x_ranges5.append((-h*(i+1), -(r**2-(h*(i+1))**2)**.5))\n",
    "        y_ranges6.append((-h*(i+1), -(r**2-(h*(i+1))**2)**.5))\n",
    "        y_ranges7.append((-h*(i+1), -(r**2-(h*(i+1))**2)**.5)) \n",
    "        x_ranges8.append((h*(i+1), (r**2-(h*(i+1))**2)**.5))    \n",
    "\n",
    "xlist = [x_ranges1,x_ranges2,x_ranges3,x_ranges4,x_ranges5,x_ranges6,x_ranges7,x_ranges8]\n",
    "ylist = [y_ranges1,y_ranges2,y_ranges3,y_ranges4,y_ranges5,y_ranges6,y_ranges7,y_ranges8]  \n",
    "\n",
    "if include_center:\n",
    "    ss = celec_outer/it\n",
    "    y_ranges = np.append(y_ranges,[(celec_inner,celec_outer)],axis = 0)\n",
    "    x_ranges = np.append(x_ranges,[(0,ss)],axis = 0)\n",
    "    x_rangesc = []\n",
    "    y_rangesc = []\n",
    "    \n",
    "    y_rangesc.append((celec_inner,celec_outer))\n",
    "    x_rangesc.append((0,-ss))\n",
    "    y_rangesc.append((-celec_inner,-celec_outer))\n",
    "    x_rangesc.append((0,-ss))\n",
    "    y_rangesc.append((-celec_inner,-celec_outer))\n",
    "    x_rangesc.append((0,ss))\n",
    "    \n",
    "    for i in range(1,it):\n",
    "        x_rangesc.append((ss*(i),ss*(i+1)))\n",
    "        x_rangesc.append((-ss*(i),-ss*(i+1)))\n",
    "        x_rangesc.append((ss*(i),ss*(i+1)))\n",
    "        x_rangesc.append((-ss*(i),-ss*(i+1)))\n",
    "        if i*ss >= celec_inner:\n",
    "            y_rangesc.append((0,(celec_outer**2-((i*ss))**2)**.5))\n",
    "            y_rangesc.append((0,(celec_outer**2-((i*ss))**2)**.5))\n",
    "            y_rangesc.append((0,-(celec_outer**2-((i*ss))**2)**.5))\n",
    "            y_rangesc.append((0,-(celec_outer**2-((i*ss))**2)**.5))\n",
    "        else:\n",
    "            y_rangesc.append(((celec_inner**2-((i*ss))**2)**.5,(celec_outer**2-((i*ss))**2)**.5))\n",
    "            y_rangesc.append(((celec_inner**2-((i*ss))**2)**.5,(celec_outer**2-((i*ss))**2)**.5))\n",
    "            y_rangesc.append((-(celec_inner**2-((i*ss))**2)**.5,-(celec_outer**2-((i*ss))**2)**.5))\n",
    "            y_rangesc.append((-(celec_inner**2-((i*ss))**2)**.5,-(celec_outer**2-((i*ss))**2)**.5))\n",
    "            \n",
    "    xlist.append(x_rangesc)\n",
    "    ylist.append(y_rangesc)\n",
    "\n"
   ]
  },
  {
   "cell_type": "code",
   "execution_count": 3,
   "metadata": {
    "scrolled": true
   },
   "outputs": [
    {
     "name": "stdout",
     "output_type": "stream",
     "text": [
      "1\n",
      "2\n",
      "3\n",
      "4\n",
      "5\n",
      "6\n",
      "7\n",
      "8\n",
      "9\n"
     ]
    }
   ],
   "source": [
    "w = World(1)\n",
    "# first build the dc electrodes\n",
    "i=0\n",
    "r = [0,0,185e-6] #395\n",
    "for xr, yr in zip( x_ranges, y_ranges):\n",
    "    i=i+1\n",
    "    w.add_electrode(str(i), xr, yr, 'dc')\n",
    "    for xrp, yrp in zip(xlist[i-1], ylist[i-1]):\n",
    "            w.dc_electrode_dict[str(i)].extend( [[ xrp,yrp ]] )    \n",
    "    w.dc_electrode_dict[str(i)].expand_in_multipoles(r)  #this step takes a while\n",
    "    print i"
   ]
  },
  {
   "cell_type": "code",
   "execution_count": 4,
   "metadata": {
    "collapsed": true
   },
   "outputs": [],
   "source": [
    "def plot_field(field,ax):\n",
    "    \n",
    "    mps = ['Ex','Ey','Ez','U1','U3']\n",
    "    idx =  mps.index(field)\n",
    "    voltages = C[idx]\n",
    "    if field == 'U1':\n",
    "        voltages = np.multiply(voltages,2)\n",
    "    if field in ['U1','U3']:\n",
    "        voltages = np.multiply(voltages,1e-3)\n",
    "    \n",
    "    def indiPlotter(elec,mycolor):\n",
    "        xm=elec[0][0]*1e6\n",
    "        xM=elec[0][1]*1e6\n",
    "        ym=elec[1][0]*1e6\n",
    "        yM=elec[1][1]*1e6\n",
    "\n",
    "        #plot vertical lines\n",
    "        ax.plot([xm,xm],[ym,yM],color=mycolor)\n",
    "        ax.plot([xM,xM],[ym,yM],color=mycolor)\n",
    "\n",
    "        #plot horizontal lines\n",
    "        ax.plot([xm,xM],[ym,ym],color=mycolor)\n",
    "        ax.plot([xm,xM],[yM,yM],color=mycolor)\n",
    "     \n",
    "#     norm = mpl.colors.Normalize(vmin=min(voltages), vmax=max(voltages))\n",
    "#     cmap = cm.viridis\n",
    "#     m = cm.ScalarMappable(norm=norm, cmap=cmap)\n",
    "#     print voltages\n",
    "    \n",
    "    i=0\n",
    "    for i,key in enumerate(w.electrode_dict):\n",
    "        myElec = w.electrode_dict[key]\n",
    "        if key != '9':\n",
    "            mycolor = m.to_rgba(voltages[int(key)-1])\n",
    "            indiPlotter([(myElec.x1,myElec.x2),(myElec.y1,myElec.y2)],mycolor) #plot each electrode\n",
    "            for subelec in myElec.sub_electrodes:\n",
    "                indiPlotter([(subelec.x1,subelec.x2),(subelec.y1,subelec.y2)],mycolor)\n",
    "    orig_axes=plt.axis()\n",
    "    new_axes=[0,0,0,0]\n",
    "\n",
    "    #creating margins\n",
    "    h_marg=100\n",
    "    v_marg=1\n",
    "    new_axes[0]=orig_axes[0]-h_marg\n",
    "    new_axes[1]=orig_axes[1]+h_marg\n",
    "    new_axes[2]=orig_axes[2]-v_marg\n",
    "    new_axes[3]=orig_axes[3]-v_marg\n",
    "\n",
    "    ax.set_xlabel('x ($\\mu$m)')\n",
    "    ax.set_xlim(-3200,3200)\n",
    "    ax.set_ylim(-3200,3200)\n",
    "    ax.set_aspect('equal')\n",
    "    ax.text(0,0,field,horizontalalignment='center',verticalalignment='center',fontsize=16)\n",
    "    "
   ]
  },
  {
   "cell_type": "code",
   "execution_count": 6,
   "metadata": {},
   "outputs": [
    {
     "data": {
      "image/png": "[encoded data removed]",
      "text/plain": [
       "<matplotlib.figure.Figure at 0x7fc8b3ee27d0>"
      ]
     },
     "metadata": {},
     "output_type": "display_data"
    }
   ],
   "source": [
    "fig,ax = plt.subplots(1,3,figsize = (13,3),sharey=True)\n",
    "mps = ['Ex','Ey','Ez','U1','U3']\n",
    "C = w.multipole_control_matrix((0,0,385e-6), mps, r0= 1,shorted_electrodes = ['9'])\n",
    "top = np.amax(C[:3,:])\n",
    "bottom = np.amin(C[:3,:])\n",
    "norm = mpl.colors.Normalize(vmin=bottom, vmax=top)\n",
    "cmap = cm.viridis\n",
    "m = cm.ScalarMappable(norm=norm, cmap=cmap)\n",
    "m.set_array(30)\n",
    "\n",
    "for j,el in enumerate(mps):\n",
    "    if j<3:\n",
    "        plot_field(el,ax[j])\n",
    "ax[0].set_ylabel('y ($\\mu$m)')\n",
    "# cb = plt.colorbar(m)\n",
    "# cb.ax.set_ylabel('Voltage (V)',rotation = -90,labelpad = 6)\n",
    "plt.suptitle('Voltage Required on Each Electrode \\nto Produce 1 V/m Dipole Field',y = 1.03)\n",
    "\n",
    "fig.subplots_adjust(right=.84)\n",
    "cbar_ax = fig.add_axes([0.85, 0.15, 0.01, 0.7])\n",
    "cb = fig.colorbar(m, cax=cbar_ax)\n",
    "cb.ax.set_ylabel('Voltage (V)',rotation = -90,labelpad = 9)\n",
    "\n",
    "plt.show()\n"
   ]
  },
  {
   "cell_type": "code",
   "execution_count": 43,
   "metadata": {},
   "outputs": [
    {
     "data": {
      "image/png": "[encoded data removed]",
      "text/plain": [
       "<matplotlib.figure.Figure at 0x7f4cea8c66d0>"
      ]
     },
     "metadata": {},
     "output_type": "display_data"
    }
   ],
   "source": [
    "fig,ax = plt.subplots(1,2,figsize = (9,3),sharey=True)\n",
    "mps = ['Ex','Ey','Ez','U1','U3']\n",
    "C = w.multipole_control_matrix((0,0,385e-6), mps,r0=1e-3,shorted_electrodes = ['9'])\n",
    "\n",
    "norm = mpl.colors.Normalize(vmin=1e-3*min(C[4]), vmax=1e-3*max(C[4]))\n",
    "cmap = cm.viridis\n",
    "m = cm.ScalarMappable(norm=norm, cmap=cmap)\n",
    "m.set_array(30)\n",
    "\n",
    "for j,el in enumerate(mps):\n",
    "    if j>2:\n",
    "        plot_field(el,ax[j-3])\n",
    "ax[0].set_ylabel('y ($\\mu$m)')\n",
    "# cb = plt.colorbar(m,ax=ax[1])\n",
    "fig.subplots_adjust(right=.84)\n",
    "cbar_ax = fig.add_axes([0.85, 0.15, 0.02, 0.7])\n",
    "cb = fig.colorbar(m, cax=cbar_ax)\n",
    "cb.ax.set_ylabel('Voltage (V)',rotation = -90,labelpad = 6)\n",
    "plt.suptitle('Voltage Required on Each Electrode \\nto Produce 1 mV/mm$^2$ Quadrupole Field',y=1.03)\n",
    "plt.show()"
   ]
  },
  {
   "cell_type": "code",
   "execution_count": null,
   "metadata": {
    "collapsed": true,
    "scrolled": true
   },
   "outputs": [],
   "source": []
  },
  {
   "cell_type": "code",
   "execution_count": null,
   "metadata": {
    "collapsed": true
   },
   "outputs": [],
   "source": []
  },
  {
   "cell_type": "code",
   "execution_count": null,
   "metadata": {
    "collapsed": true
   },
   "outputs": [],
   "source": []
  },
  {
   "cell_type": "code",
   "execution_count": null,
   "metadata": {
    "collapsed": true
   },
   "outputs": [],
   "source": []
  }
 ],
 "metadata": {
  "kernelspec": {
   "display_name": "Python 2",
   "language": "python",
   "name": "python2"
  },
  "language_info": {
   "codemirror_mode": {
    "name": "ipython",
    "version": 2
   },
   "file_extension": ".py",
   "mimetype": "text/x-python",
   "name": "python",
   "nbconvert_exporter": "python",
   "pygments_lexer": "ipython2",
   "version": "2.7.12"
  },
  "latex_envs": {
   "LaTeX_envs_menu_present": true,
   "autoclose": false,
   "autocomplete": true,
   "bibliofile": "biblio.bib",
   "cite_by": "apalike",
   "current_citInitial": 1,
   "eqLabelWithNumbers": true,
   "eqNumInitial": 1,
   "hotkeys": {
    "equation": "Ctrl-E",
    "itemize": "Ctrl-I"
   },
   "labels_anchors": false,
   "latex_user_defs": false,
   "report_style_numbering": false,
   "user_envs_cfg": false
  },
  "varInspector": {
   "cols": {
    "lenName": 16,
    "lenType": 16,
    "lenVar": 40
   },
   "kernels_config": {
    "python": {
     "delete_cmd_postfix": "",
     "delete_cmd_prefix": "del ",
     "library": "var_list.py",
     "varRefreshCmd": "print(var_dic_list())"
    },
    "r": {
     "delete_cmd_postfix": ") ",
     "delete_cmd_prefix": "rm(",
     "library": "var_list.r",
     "varRefreshCmd": "cat(var_dic_list()) "
    }
   },
   "types_to_exclude": [
    "module",
    "function",
    "builtin_function_or_method",
    "instance",
    "_Feature"
   ],
   "window_display": false
  }
 },
 "nbformat": 4,
 "nbformat_minor": 2
}
