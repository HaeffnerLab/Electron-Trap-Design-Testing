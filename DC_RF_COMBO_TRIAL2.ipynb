{
 "cells": [
  {
   "cell_type": "code",
   "execution_count": 3,
   "metadata": {},
   "outputs": [],
   "source": [
    "import numpy as np\n",
    "import matplotlib.pyplot as plt\n",
    "import scipy.interpolate\n",
    "import pandas as pd\n",
    "from mpl_toolkits.mplot3d import Axes3D\n",
    "from scipy import stats\n",
    "import time\n",
    "%matplotlib inline\n",
    "import trap_util as tu\n",
    "from trap_util import trap\n",
    "from trap_util import quarter_trap\n",
    "from trap_util import half_trap\n",
    "# physical parameters\n",
    "q = -1.60217662e-19 # coulombs\n",
    "m = 9.10938356e-31 #kg (electron)\n",
    "#m = 6.6359437706294e-26 #(calcium)\n",
    "kB = 1.38064852e-23 # J/K\n",
    "f = 1.5e9 # Electrode frequency, in Hertz"
   ]
  },
  {
   "cell_type": "markdown",
   "metadata": {},
   "source": [
    "## Reading E-field data"
   ]
  },
  {
   "cell_type": "code",
   "execution_count": 4,
   "metadata": {},
   "outputs": [],
   "source": [
    "# loading E field (vector)\n",
    "data_RF = np.loadtxt(\"etrap_65V_1p5GHz_realsmoothExEy_500nm_25passes_quarter.fld\", skiprows = 2)"
   ]
  },
  {
   "cell_type": "code",
   "execution_count": 5,
   "metadata": {},
   "outputs": [],
   "source": [
    "data_DC = np.loadtxt(\"etrap_extraction_40_-40_-200V_smoothExEy_1micron_half.fld\", skiprows = 2)"
   ]
  },
  {
   "cell_type": "code",
   "execution_count": 6,
   "metadata": {},
   "outputs": [
    {
     "name": "stdout",
     "output_type": "stream",
     "text": [
      "x_max =  2.0 mm\n",
      "y_max =  2.0 mm\n",
      "x_min =  0.0 mm\n",
      "y_min =  -2.0 mm\n",
      "spatial resolution x:  1.0 um\n",
      "spatial resolution y:  1.0 um\n"
     ]
    }
   ],
   "source": [
    "# manipulating E field data\n",
    "df_DC = pd.DataFrame(data_DC, columns=['x', 'y', 'z', 'Ex', 'Ey', 'Ez'])\n",
    "x_max_DC, x_min_DC = df_DC.x.max(), df_DC.x.min()\n",
    "y_max_DC, y_min_DC = df_DC.y.max(), df_DC.y.min()\n",
    "# print(x_max, x_min, y_max, y_min)\n",
    "# print(df.y.nunique())\n",
    "Nx_DC, Ny_DC = df_DC.x.nunique() - 1, df_DC.y.nunique() - 1 # numbers of intervals that divide each dimension\n",
    "dx_DC, dy_DC = (x_max_DC-x_min_DC)/Nx_DC, (y_max_DC-y_min_DC)/Ny_DC # interval size\n",
    "print(\"x_max = \", x_max_DC*1.0e3, \"mm\")\n",
    "print(\"y_max = \", y_max_DC*1.0e3, \"mm\")\n",
    "print(\"x_min = \", x_min_DC*1.0e3, \"mm\")\n",
    "print(\"y_min = \", y_min_DC*1.0e3, \"mm\")\n",
    "print(\"spatial resolution x: \", dx_DC*1.0e6, \"um\")\n",
    "print(\"spatial resolution y: \", dy_DC*1.0e6, \"um\")"
   ]
  },
  {
   "cell_type": "code",
   "execution_count": 7,
   "metadata": {},
   "outputs": [
    {
     "name": "stdout",
     "output_type": "stream",
     "text": [
      "x_max =  2.0000000000000004 mm\n",
      "y_max =  2.0000000000000004 mm\n",
      "x_min =  0.0 mm\n",
      "y_min =  0.0 mm\n",
      "spatial resolution x:  0.5000000000000001 um\n",
      "spatial resolution y:  0.5000000000000001 um\n"
     ]
    }
   ],
   "source": [
    "# manipulating E field data\n",
    "df_RF = pd.DataFrame(data_RF, columns=['x', 'y', 'z', 'Ex', 'Ey', 'Ez'])\n",
    "x_max_RF, x_min_RF = df_RF.x.max(), df_RF.x.min()\n",
    "y_max_RF, y_min_RF = df_RF.y.max(), df_RF.y.min()\n",
    "# print(x_max, x_min, y_max, y_min)\n",
    "# print(df.y.nunique())\n",
    "Nx_RF, Ny_RF = df_RF.x.nunique() - 1, df_RF.y.nunique() - 1 # numbers of intervals that divide each dimension\n",
    "dx_RF, dy_RF = (x_max_RF-x_min_RF)/Nx_RF, (y_max_RF-y_min_RF)/Ny_RF # interval size\n",
    "print(\"x_max = \", x_max_RF*1.0e3, \"mm\")\n",
    "print(\"y_max = \", y_max_RF*1.0e3, \"mm\")\n",
    "print(\"x_min = \", x_min_RF*1.0e3, \"mm\")\n",
    "print(\"y_min = \", y_min_RF*1.0e3, \"mm\")\n",
    "print(\"spatial resolution x: \", dx_RF*1.0e6, \"um\")\n",
    "print(\"spatial resolution y: \", dy_RF*1.0e6, \"um\")"
   ]
  },
  {
   "cell_type": "markdown",
   "metadata": {},
   "source": [
    "## Initializing DC and RF Trap Objects"
   ]
  },
  {
   "cell_type": "code",
   "execution_count": 8,
   "metadata": {},
   "outputs": [],
   "source": [
    "trap_RF = quarter_trap(df_RF, x_max_RF, x_min_RF, y_max_RF, y_min_RF,\\\n",
    "                      Nx_RF, Ny_RF, dx_RF, dy_RF, f=f)\n",
    "trap_DC = half_trap(df_DC, x_max_DC, x_min_DC, y_max_DC, y_min_DC,\\\n",
    "                      Nx_DC, Ny_DC, dx_DC, dy_DC, f=0.0)"
   ]
  },
  {
   "cell_type": "code",
   "execution_count": 9,
   "metadata": {},
   "outputs": [],
   "source": [
    "def E_field_sim(state, time):\n",
    "    # this is a function that takes in a 2-element array state and a number time.\n",
    "    # state[0] is current position and state[1] is current velocity.\n",
    "    # it calculates the derivative of state, and returns a 2-element array,\n",
    "    # with the 0th element being derivative of position and the 1th being \n",
    "    # the acceleration\n",
    "    g0 = state[1]\n",
    "    x, y = state[0]\n",
    "    g1 = trap_DC.acceleration(x, y, time) #+ trap_RF.acceleration(x, y, time)\n",
    "    return np.array([g0, g1])\n",
    "\n",
    "def extracted(rou, phi, v, theta, dt, t_max):\n",
    "    electron_pos=np.array([rou*np.cos(phi), rou*np.sin(phi)])\n",
    "    electron_vel = np.array([v*np.cos(theta), v*np.sin(theta)])\n",
    "    state = np.array([electron_pos, electron_vel])\n",
    "    t = 0.0 # the time variable\n",
    "    extracted = False\n",
    "    \n",
    "    # actual simulation\n",
    "    while t < t_max:\n",
    "        x, y = state[0]\n",
    "        if trap_DC.hit_electrodes(x, y):\n",
    "            break\n",
    "        if y > trap_DC.y_max:\n",
    "            extracted = True\n",
    "            break\n",
    "        if not trap_DC.within_boundary(x, y):\n",
    "            break\n",
    "        state = trap_DC.rk4(state, t, dt, E_field_sim)\n",
    "        t += dt\n",
    "    return extracted"
   ]
  },
  {
   "cell_type": "code",
   "execution_count": 10,
   "metadata": {},
   "outputs": [
    {
     "name": "stdout",
     "output_type": "stream",
     "text": [
      "Simulating T =  300.0 kelvin\n",
      "The result for T =  300.0 kelvin:\n"
     ]
    },
    {
     "data": {
      "image/png": "[encoded data removed]",
      "text/plain": [
       "<Figure size 432x288 with 1 Axes>"
      ]
     },
     "metadata": {
      "needs_background": "light"
     },
     "output_type": "display_data"
    }
   ],
   "source": [
    "dt = 1.0e-11 #s\n",
    "t_max = 5.0e-8 # maximum time duration of the simulation\n",
    "\n",
    "#initial condition\n",
    "rou_s = np.linspace(0, 300.0e-6, 100)\n",
    "N_phi = 9\n",
    "N_theta = 37\n",
    "\n",
    "# A dictionary, taking temperature as key and the value is a \n",
    "# list of success rates correspond to each rou in rou_s\n",
    "success_rate = dict() \n",
    "errors = dict()\n",
    "for T in [300.0]:\n",
    "    v = np.sqrt(kB*T/m)\n",
    "    success_rate[T] = [] \n",
    "    errors[T] = []\n",
    "    print(\"Simulating T = \", T, \"kelvin\")\n",
    "    for rou in rou_s:\n",
    "        result = []\n",
    "        for phi in np.linspace(0, np.pi/2, N_phi):\n",
    "            for theta in np.linspace(0, np.pi*2, N_theta):\n",
    "                if extracted(rou, phi, v, theta, dt, t_max):\n",
    "                    result.append(1)\n",
    "                else:\n",
    "                    result.append(0)\n",
    "        success_rate[T].append(np.mean(result))\n",
    "        errors[T].append(np.std(result)/np.sqrt(N_phi*N_theta))\n",
    "    print(\"The result for T = \", T, \"kelvin:\")\n",
    "    plt.figure()\n",
    "    plt.plot(rou_s*1.0e6, success_rate[T], 'rx')\n",
    "    "
   ]
  },
  {
   "cell_type": "code",
   "execution_count": null,
   "metadata": {},
   "outputs": [],
   "source": []
  }
 ],
 "metadata": {
  "kernelspec": {
   "display_name": "Python 3",
   "language": "python",
   "name": "python3"
  },
  "language_info": {
   "codemirror_mode": {
    "name": "ipython",
    "version": 3
   },
   "file_extension": ".py",
   "mimetype": "text/x-python",
   "name": "python",
   "nbconvert_exporter": "python",
   "pygments_lexer": "ipython3",
   "version": "3.5.2"
  }
 },
 "nbformat": 4,
 "nbformat_minor": 2
}
