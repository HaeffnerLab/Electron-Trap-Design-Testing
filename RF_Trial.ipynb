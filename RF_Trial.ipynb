{
 "cells": [
  {
   "cell_type": "code",
   "execution_count": 12,
   "metadata": {},
   "outputs": [],
   "source": [
    "import numpy as np\n",
    "import matplotlib.pyplot as plt\n",
    "import scipy.interpolate\n",
    "import pandas as pd\n",
    "from mpl_toolkits.mplot3d import Axes3D\n",
    "from scipy import stats\n",
    "import time\n",
    "%matplotlib inline"
   ]
  },
  {
   "cell_type": "code",
   "execution_count": 19,
   "metadata": {},
   "outputs": [],
   "source": [
    "import trap_util as tu\n",
    "from trap_util import trap"
   ]
  },
  {
   "cell_type": "code",
   "execution_count": 21,
   "metadata": {},
   "outputs": [],
   "source": [
    "trap.m = 9.10938356e-31"
   ]
  },
  {
   "cell_type": "code",
   "execution_count": 28,
   "metadata": {},
   "outputs": [],
   "source": [
    "trap.q = -1.60217662e-19\n",
    "trap.f = 1.5e9"
   ]
  },
  {
   "cell_type": "code",
   "execution_count": 25,
   "metadata": {},
   "outputs": [],
   "source": [
    "# physical parameters\n",
    "q = -1.60217662e-19 # coulombs\n",
    "m = 9.10938356e-31 #kg (electron)\n",
    "#m = 6.6359437706294e-26 #(calcium)\n",
    "kB = 1.38064852e-23 # J/K\n",
    "f = 1.5e9 # Electrode frequency, in Hertz"
   ]
  },
  {
   "cell_type": "code",
   "execution_count": 8,
   "metadata": {},
   "outputs": [],
   "source": [
    "# loading E field (vector)\n",
    "data_RF = np.loadtxt(\"etrap_65V_1p5GHz_realsmoothExEy_1um.fld\", skiprows = 2)"
   ]
  },
  {
   "cell_type": "code",
   "execution_count": 26,
   "metadata": {},
   "outputs": [
    {
     "name": "stdout",
     "output_type": "stream",
     "text": [
      "x_max =  2.0 mm\n",
      "y_max =  2.0 mm\n",
      "x_min =  -2.0 mm\n",
      "y_min =  -2.0 mm\n",
      "spatial resolution x:  1.0 um\n",
      "spatial resolution y:  1.0 um\n"
     ]
    }
   ],
   "source": [
    "# manipulating E field data\n",
    "df = pd.DataFrame(data_RF, columns=['x', 'y', 'z', 'Ex', 'Ey', 'Ez'])\n",
    "x_max, x_min = df.x.max(), df.x.min()\n",
    "y_max, y_min = df.y.max(), df.y.min()\n",
    "# print(x_max, x_min, y_max, y_min)\n",
    "# print(df.y.nunique())\n",
    "Nx, Ny = df.x.nunique() - 1, df.y.nunique() - 1 # numbers of intervals that divide each dimension\n",
    "dx, dy = (x_max-x_min)/Nx, (y_max-y_min)/Ny # interval size\n",
    "print(\"x_max = \", x_max*1.0e3, \"mm\")\n",
    "print(\"y_max = \", y_max*1.0e3, \"mm\")\n",
    "print(\"x_min = \", x_min*1.0e3, \"mm\")\n",
    "print(\"y_min = \", y_min*1.0e3, \"mm\")\n",
    "print(\"spatial resolution x: \", dx*1.0e6, \"um\")\n",
    "print(\"spatial resolution y: \", dy*1.0e6, \"um\")"
   ]
  },
  {
   "cell_type": "code",
   "execution_count": 27,
   "metadata": {},
   "outputs": [],
   "source": [
    "RF_trap = trap(df, x_max, x_min, y_max, y_min, Nx, Ny, dx, dy)"
   ]
  },
  {
   "cell_type": "code",
   "execution_count": 31,
   "metadata": {},
   "outputs": [
    {
     "data": {
      "text/plain": [
       "array([ 5.28204508e+13, -7.58416245e+13])"
      ]
     },
     "execution_count": 31,
     "metadata": {},
     "output_type": "execute_result"
    }
   ],
   "source": [
    "RF_trap.acceleration(3.0e-6, 4.0e-6, 1.0)"
   ]
  },
  {
   "cell_type": "code",
   "execution_count": null,
   "metadata": {},
   "outputs": [],
   "source": []
  }
 ],
 "metadata": {
  "kernelspec": {
   "display_name": "Python 3",
   "language": "python",
   "name": "python3"
  },
  "language_info": {
   "codemirror_mode": {
    "name": "ipython",
    "version": 3
   },
   "file_extension": ".py",
   "mimetype": "text/x-python",
   "name": "python",
   "nbconvert_exporter": "python",
   "pygments_lexer": "ipython3",
   "version": "3.5.2"
  }
 },
 "nbformat": 4,
 "nbformat_minor": 2
}
