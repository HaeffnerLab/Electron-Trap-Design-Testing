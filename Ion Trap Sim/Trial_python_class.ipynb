{
 "cells": [
  {
   "cell_type": "code",
   "execution_count": 1,
   "metadata": {},
   "outputs": [],
   "source": [
    "import numpy as np\n",
    "import matplotlib.pyplot as plt\n",
    "import scipy.interpolate\n",
    "import pandas as pd\n",
    "from mpl_toolkits.mplot3d import Axes3D\n",
    "from scipy import stats\n",
    "import time\n",
    "import trap_simulation as ts\n",
    "import scipy.integrate\n",
    "import trap_util as tu\n",
    "from trap_util import trap\n",
    "%matplotlib inline\n",
    "q = 1.60217662e-19 # coulombs\n",
    "#m = 9.10938356e-31 #kg (electron)\n",
    "m = 6.6359437706294e-26 #(calcium)\n",
    "kB = 1.38064852e-23 # J/K\n",
    "f = 100.0e6 # Electrode frequency, in Hertz\n"
   ]
  },
  {
   "cell_type": "code",
   "execution_count": 2,
   "metadata": {},
   "outputs": [],
   "source": [
    "# loading E field (vector)\n",
    "data = np.loadtxt(\"Fusion3D_100MHz_50V_ion_oop_realExEy_smooth.fld\", skiprows = 2)\n",
    "# manipulating E field data\n",
    "df = pd.DataFrame(data, columns=['x', 'y', 'z', 'Ex', 'Ey', 'Ez'])\n",
    "x_max, x_min = df.x.max(), df.x.min()\n",
    "y_max, y_min = df.y.max(), df.y.min()\n",
    "Nx, Ny = df.x.nunique() - 1, df.y.nunique() - 1 # numbers of intervals that divide each dimension\n",
    "dx, dy = (x_max-x_min)/Nx, (y_max-y_min)/Ny # interval size"
   ]
  },
  {
   "cell_type": "code",
   "execution_count": 3,
   "metadata": {},
   "outputs": [],
   "source": [
    "ion = trap(df, x_max, x_min, y_max, y_min, Nx, Ny, dx, dy)"
   ]
  },
  {
   "cell_type": "code",
   "execution_count": 6,
   "metadata": {},
   "outputs": [
    {
     "data": {
      "text/plain": [
       "True"
      ]
     },
     "execution_count": 6,
     "metadata": {},
     "output_type": "execute_result"
    }
   ],
   "source": [
    "ion.trapped(60.0e-6, 0, 500.0, 0, 1.0e-9, 4.0e-6)"
   ]
  },
  {
   "cell_type": "code",
   "execution_count": null,
   "metadata": {},
   "outputs": [],
   "source": []
  }
 ],
 "metadata": {
  "kernelspec": {
   "display_name": "Python 3",
   "language": "python",
   "name": "python3"
  },
  "language_info": {
   "codemirror_mode": {
    "name": "ipython",
    "version": 3
   },
   "file_extension": ".py",
   "mimetype": "text/x-python",
   "name": "python",
   "nbconvert_exporter": "python",
   "pygments_lexer": "ipython3",
   "version": "3.5.2"
  }
 },
 "nbformat": 4,
 "nbformat_minor": 2
}
