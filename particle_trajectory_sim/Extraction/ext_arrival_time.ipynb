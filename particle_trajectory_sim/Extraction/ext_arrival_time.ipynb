{
 "cells": [
  {
   "cell_type": "code",
   "execution_count": 1,
   "metadata": {},
   "outputs": [],
   "source": [
    "import numpy as np\n",
    "import matplotlib.pyplot as plt\n",
    "import scipy.interpolate\n",
    "import pandas as pd\n",
    "import sys\n",
    "sys.path.append(\"..\") # Adds higher directory to python modules path.\n",
    "from mpl_toolkits.mplot3d import Axes3D\n",
    "from mpl_toolkits.mplot3d import Axes3D\n",
    "from scipy import stats\n",
    "import time\n",
    "%matplotlib inline\n",
    "import trap_util as tu\n",
    "from trap_util import trap\n",
    "from trap_util import quarter_trap\n",
    "from trap_util import half_trap\n",
    "# physical parameters\n",
    "q = -1.60217662e-19 # coulombs\n",
    "m = 9.10938356e-31 #kg (electron)\n",
    "kB = 1.38064852e-23 # J/K\n",
    "ramp_time = 5.0e-9 #s (the ramping time for extraction voltage)\n",
    "f = 1.5e9 # Electrode frequency, in Hertz"
   ]
  },
  {
   "cell_type": "code",
   "execution_count": 2,
   "metadata": {},
   "outputs": [],
   "source": [
    "# event_log = []"
   ]
  },
  {
   "cell_type": "markdown",
   "metadata": {},
   "source": [
    "## Reading E-field data"
   ]
  },
  {
   "cell_type": "code",
   "execution_count": 2,
   "metadata": {},
   "outputs": [],
   "source": [
    "# loading RF E field data\n",
    "data_RF = np.loadtxt(\"../etrap_65V_1p5GHz_realsmoothExEy_250nm_30passes_quarter.fld\", skiprows = 2)"
   ]
  },
  {
   "cell_type": "code",
   "execution_count": 3,
   "metadata": {},
   "outputs": [],
   "source": [
    "data_DC0 = np.loadtxt(\"3D_no_ext_voltage_radial_plane_fix_all_multipoles_except_constant.fld\", skiprows=2)"
   ]
  },
  {
   "cell_type": "code",
   "execution_count": 4,
   "metadata": {},
   "outputs": [],
   "source": [
    "data_DC1 = np.loadtxt(\"ext_voltage_x02_y-2_9.5.fld\", skiprows=2)"
   ]
  },
  {
   "cell_type": "code",
   "execution_count": 5,
   "metadata": {},
   "outputs": [],
   "source": [
    "# manipulating E field data\n",
    "df_DC0 = pd.DataFrame(data_DC0, columns=['x', 'z', 'y', 'Ex', 'Ez', 'Ey'])\n",
    "# dealing with the discrepency between axis notations used by this simulation and Maxwell\n",
    "df_DC0 = df_DC0[[\"x\", \"y\", \"z\", \"Ex\", \"Ey\", \"Ez\"]]\n",
    "#df_DC0[(abs(df_DC0.y)<50.0e-6) & (df_DC0.x==0) & (abs(df_DC0.Ey)<10.0)]"
   ]
  },
  {
   "cell_type": "code",
   "execution_count": 6,
   "metadata": {},
   "outputs": [
    {
     "name": "stdout",
     "output_type": "stream",
     "text": [
      "x_max =  2.0 mm\n",
      "y_max =  2.0 mm\n",
      "x_min =  0.0 mm\n",
      "y_min =  -2.0 mm\n",
      "spatial resolution x:  1.0 um\n",
      "spatial resolution y:  1.0 um\n",
      "----------\n",
      "x_max =  2.0 mm\n",
      "y_max =  9.500000000000002 mm\n",
      "x_min =  0.0 mm\n",
      "y_min =  -2.0 mm\n",
      "spatial resolution x:  5.0 um\n",
      "spatial resolution y:  5.0 um\n"
     ]
    }
   ],
   "source": [
    "x_max_DC0, x_min_DC0 = df_DC0.x.max(), df_DC0.x.min()\n",
    "y_max_DC0, y_min_DC0 = df_DC0.y.max(), df_DC0.y.min()\n",
    "# print(x_max, x_min, y_max, y_min)\n",
    "# print(df.y.nunique())\n",
    "Nx_DC0, Ny_DC0 = df_DC0.x.nunique() - 1, df_DC0.y.nunique() - 1 # numbers of intervals that divide each dimension\n",
    "dx_DC0, dy_DC0 = (x_max_DC0-x_min_DC0)/Nx_DC0, (y_max_DC0-y_min_DC0)/Ny_DC0 # interval size\n",
    "print(\"x_max = \", x_max_DC0*1.0e3, \"mm\")\n",
    "print(\"y_max = \", y_max_DC0*1.0e3, \"mm\")\n",
    "print(\"x_min = \", x_min_DC0*1.0e3, \"mm\")\n",
    "print(\"y_min = \", y_min_DC0*1.0e3, \"mm\")\n",
    "print(\"spatial resolution x: \", dx_DC0*1.0e6, \"um\")\n",
    "print(\"spatial resolution y: \", dy_DC0*1.0e6, \"um\")\n",
    "print(\"----------\")\n",
    "# manipulating E field data\n",
    "df_DC1 = pd.DataFrame(data_DC1, columns=['x', 'y', 'z', 'Ex', 'Ey', 'Ez'])\n",
    "x_max_DC1, x_min_DC1 = df_DC1.x.max(), df_DC1.x.min()\n",
    "y_max_DC1, y_min_DC1 = df_DC1.y.max(), df_DC1.y.min()\n",
    "# print(x_max, x_min, y_max, y_min)\n",
    "# print(df.y.nunique())\n",
    "Nx_DC1, Ny_DC1 = df_DC1.x.nunique() - 1, df_DC1.y.nunique() - 1 # numbers of intervals that divide each dimension\n",
    "dx_DC1, dy_DC1 = (x_max_DC1-x_min_DC1)/Nx_DC1, (y_max_DC1-y_min_DC1)/Ny_DC1 # interval size\n",
    "print(\"x_max = \", x_max_DC1*1.0e3, \"mm\")\n",
    "print(\"y_max = \", y_max_DC1*1.0e3, \"mm\")\n",
    "print(\"x_min = \", x_min_DC1*1.0e3, \"mm\")\n",
    "print(\"y_min = \", y_min_DC1*1.0e3, \"mm\")\n",
    "print(\"spatial resolution x: \", dx_DC1*1.0e6, \"um\")\n",
    "print(\"spatial resolution y: \", dy_DC1*1.0e6, \"um\")"
   ]
  },
  {
   "cell_type": "code",
   "execution_count": 7,
   "metadata": {},
   "outputs": [
    {
     "name": "stdout",
     "output_type": "stream",
     "text": [
      "x_max =  1.0 mm\n",
      "y_max =  1.5 mm\n",
      "x_min =  0.0 mm\n",
      "y_min =  0.0 mm\n",
      "spatial resolution x:  0.25 um\n",
      "spatial resolution y:  0.25 um\n"
     ]
    }
   ],
   "source": [
    "# manipulating E field data\n",
    "df_RF = pd.DataFrame(data_RF, columns=['x', 'y', 'z', 'Ex', 'Ey', 'Ez'])\n",
    "x_max_RF, x_min_RF = df_RF.x.max(), df_RF.x.min()\n",
    "y_max_RF, y_min_RF = df_RF.y.max(), df_RF.y.min()\n",
    "# print(x_max, x_min, y_max, y_min)\n",
    "# print(df.y.nunique())\n",
    "Nx_RF, Ny_RF = df_RF.x.nunique() - 1, df_RF.y.nunique() - 1 # numbers of intervals that divide each dimension\n",
    "dx_RF, dy_RF = (x_max_RF-x_min_RF)/Nx_RF, (y_max_RF-y_min_RF)/Ny_RF # interval size\n",
    "print(\"x_max = \", x_max_RF*1.0e3, \"mm\")\n",
    "print(\"y_max = \", y_max_RF*1.0e3, \"mm\")\n",
    "print(\"x_min = \", x_min_RF*1.0e3, \"mm\")\n",
    "print(\"y_min = \", y_min_RF*1.0e3, \"mm\")\n",
    "print(\"spatial resolution x: \", dx_RF*1.0e6, \"um\")\n",
    "print(\"spatial resolution y: \", dy_RF*1.0e6, \"um\")"
   ]
  },
  {
   "cell_type": "markdown",
   "metadata": {},
   "source": [
    "## Initializing DC and RF Trap Objects"
   ]
  },
  {
   "cell_type": "code",
   "execution_count": 8,
   "metadata": {},
   "outputs": [],
   "source": [
    "trap_RF = quarter_trap(df_RF, x_max_RF, x_min_RF, y_max_RF, y_min_RF,\\\n",
    "                      Nx_RF, Ny_RF, dx_RF, dy_RF, f=f)\n",
    "trap_DC0 = half_trap(df_DC0, x_max_DC0, x_min_DC0, y_max_DC0, y_min_DC0,\\\n",
    "                      Nx_DC0, Ny_DC0, dx_DC0, dy_DC0, f=0.0)\n",
    "trap_DC1 = half_trap(df_DC1, x_max_DC1, x_min_DC1, y_max_DC1, y_min_DC1,\\\n",
    "                      Nx_DC1, Ny_DC1, dx_DC1, dy_DC1, f=0.0)"
   ]
  },
  {
   "cell_type": "code",
   "execution_count": 9,
   "metadata": {},
   "outputs": [
    {
     "data": {
      "text/plain": [
       "<matplotlib.colorbar.Colorbar at 0x118626940>"
      ]
     },
     "execution_count": 9,
     "metadata": {},
     "output_type": "execute_result"
    },
    {
     "data": {
      "image/png": "[encoded data removed]",
      "text/plain": [
       "<Figure size 432x288 with 2 Axes>"
      ]
     },
     "metadata": {},
     "output_type": "display_data"
    }
   ],
   "source": [
    "x = np.linspace(-2.0e-3, 2.0e-3, 101)\n",
    "y = np.linspace(-2.0e-3, 9.4e-3, 101)\n",
    "X, Y = np.meshgrid(x, y)\n",
    "E = np.zeros_like(X)\n",
    "for j in range(len(y)):\n",
    "    for i in range(len(x)):\n",
    "        Ex, Ey = trap_DC1.E_field(x[i], y[j], 0)\n",
    "        E[j][i] = np.sqrt(Ex**2 + Ey**2)\n",
    "plt.contourf(X*1.0e6, Y*1.0e6, E, 200)\n",
    "plt.xlabel(\"x(um)\")\n",
    "plt.ylabel(\"y(um)\")\n",
    "plt.colorbar()"
   ]
  },
  {
   "cell_type": "markdown",
   "metadata": {},
   "source": [
    "## Defining simulation functions (RF + a time weighted linear combination of DC voltages )"
   ]
  },
  {
   "cell_type": "code",
   "execution_count": 53,
   "metadata": {},
   "outputs": [
    {
     "data": {
      "text/plain": [
       "0.729996294002817"
      ]
     },
     "execution_count": 53,
     "metadata": {},
     "output_type": "execute_result"
    }
   ],
   "source": []
  },
  {
   "cell_type": "code",
   "execution_count": 82,
   "metadata": {},
   "outputs": [],
   "source": [
    "def E_field_sim(state, time, RF_phase=0):\n",
    "    # this is a function that takes in a 2-element array state and a number time.\n",
    "    # state[0] is current position and state[1] is current velocity.\n",
    "    # it calculates the derivative of state, and returns a 2-element array,\n",
    "    # with the 0th element being derivative of position and the 1th being \n",
    "    # the acceleration\n",
    "    ramp_time = 12.0e-9\n",
    "    factor = 0.75\n",
    "    g0 = state[1]\n",
    "    x, y = state[0] \n",
    "    def RF_ac(x, y, time):\n",
    "        if y > trap_RF.y_max:\n",
    "            return 0\n",
    "        else:\n",
    "            return trap_RF.acceleration(x, y, time+RF_phase/(2*np.pi*f))\n",
    "    if time < ramp_time:\n",
    "        g1 = RF_ac(x, y, time) + (1 - time/ramp_time) * trap_DC0.acceleration(x, y, time) +\\\n",
    "        time/ramp_time * factor * trap_DC1.acceleration(x, y ,time)\n",
    "    else:\n",
    "        g1 = RF_ac(x, y, time) + factor * trap_DC1.acceleration(x, y, time)\n",
    "    #g1 = trap_RF.acceleration(x, y, time) + trap_DC0.acceleration(x, y, time)\n",
    "    return np.array([g0, g1])\n",
    "\n",
    "def rk4(y, time, dt, derivs, RF_phase=0): \n",
    "    f0 = derivs(y, time, RF_phase)\n",
    "    fhalf_bar = derivs(y+f0*dt/2, time+dt, RF_phase)\n",
    "    fhalf = derivs(y+fhalf_bar*dt/2, time+dt, RF_phase)\n",
    "    f1_bar= derivs(y+fhalf*dt, time+dt, RF_phase)\n",
    "    y_next = y+dt/6*(f0+2*fhalf_bar+2*fhalf+f1_bar)\n",
    "    return y_next\n",
    "\n",
    "def extracted(rho, phi, v, theta, dt, t_max):\n",
    "    electron_pos=np.array([rho*np.cos(phi), rho*np.sin(phi)])\n",
    "    electron_vel = np.array([v*np.cos(theta), v*np.sin(theta)])\n",
    "    state = np.array([electron_pos, electron_vel])\n",
    "    t = 0.0 # the time variable\n",
    "    extracted = False\n",
    "    # if the electron is successfully extracted, return the actual arrival time\n",
    "    # otherwise, return -1.0 as the arrival time\n",
    "    t_arrival = -1.0\n",
    "    RF_phase = np.random.rand() * 2*np.pi\n",
    "    \n",
    "    # actual simulation\n",
    "    while t < t_max:\n",
    "        x, y = state[0]\n",
    "        if trap_DC1.hit_electrodes(x, y):\n",
    "            break\n",
    "        if y > trap_DC1.y_max:\n",
    "            extracted = True\n",
    "            t_arrival = t\n",
    "            break\n",
    "        if not trap_DC1.within_boundary(x, y):\n",
    "            break\n",
    "        state = rk4(state, t, dt, E_field_sim, RF_phase)\n",
    "        t += dt\n",
    "    return extracted, x, y, t_arrival\n",
    "\n",
    "def traj(rho, phi, v, theta, dt, t_max):\n",
    "    electron_pos=np.array([rho*np.cos(phi), rho*np.sin(phi)])\n",
    "    electron_vel = np.array([v*np.cos(theta), v*np.sin(theta)])\n",
    "    state = np.array([electron_pos, electron_vel])\n",
    "    t = 0.0 # the time variable\n",
    "    extracted = False\n",
    "    xs, ys, ts = [], [], []\n",
    "    # if the electron is successfully extracted, return the actual arrival time\n",
    "    # otherwise, return -1.0 as the arrival time\n",
    "    t_arrival = -1.0 \n",
    "    RF_phase = np.random.rand() * 2*np.pi\n",
    "    # actual simulation\n",
    "    while t < t_max:\n",
    "        x, y = state[0]\n",
    "        xs.append(x)\n",
    "        ys.append(y)\n",
    "        ts.append(t)\n",
    "        if trap_DC1.hit_electrodes(x, y):\n",
    "            break\n",
    "        if y > trap_DC1.y_max:\n",
    "            extracted = True\n",
    "            t_arrival = t\n",
    "            break\n",
    "        if not trap_DC1.within_boundary(x, y):\n",
    "            break\n",
    "        state = rk4(state, t, dt, E_field_sim, RF_phase)\n",
    "        t += dt\n",
    "    return extracted, np.array(ts), np.array(xs), np.array(ys), t_arrival\n",
    "\n",
    "def Boltzmann_sim(N_samples, T, dt, t_max, FWHM):\n",
    "    class Boltzmann(stats.rv_continuous):\n",
    "        def _pdf(self, v):\n",
    "            return m*v*np.exp((-1/2*m*v**2)/(kB*T))/(kB*T)\n",
    "    result, x_trajs, y_trajs, t_s, t_arrivals = [], [], [], [], []\n",
    "    Boltzmann_dist = Boltzmann(a=0)\n",
    "    for i in range(N_samples):\n",
    "        rho = abs(np.random.normal(0, FWHM/2.355))\n",
    "        phi = np.random.uniform(0, np.pi*2)\n",
    "        v = Boltzmann_dist.rvs()\n",
    "        theta = np.random.uniform(0, np.pi*2)\n",
    "        success, ts, xs, ys, t_arrival = traj(rho, phi, v, theta, dt, t_max)\n",
    "        result.append(success)\n",
    "        t_s.append(ts)\n",
    "        x_trajs.append(xs)\n",
    "        y_trajs.append(ys)\n",
    "        t_arrivals.append(t_arrival)\n",
    "        if i % 20 == 0:\n",
    "            print(i+1, \" samples already simulated\")\n",
    "    return result, t_s, x_trajs, y_trajs, t_arrivals\n",
    "\n",
    "def fixedT_sim(N_samples, T, dt, t_max, FWHM):\n",
    "    result, x_trajs, y_trajs, t_s, t_arrivals = [], [], [], [], []\n",
    "    for i in range(N_samples):\n",
    "        rho = abs(np.random.normal(0, FWHM/2.355))\n",
    "        phi = np.random.uniform(0, np.pi*2)\n",
    "        v = np.sqrt(2*kB*T/m)\n",
    "        theta = np.random.uniform(0, np.pi*2)\n",
    "        success, ts, xs, ys, t_arrival = traj(rho, phi, v, theta, dt, t_max)\n",
    "        result.append(success)\n",
    "        t_s.append(ts)\n",
    "        x_trajs.append(xs)\n",
    "        y_trajs.append(ys)\n",
    "        t_arrivals.append(t_arrival)\n",
    "#         if i % 200 == 199:\n",
    "#             print(i+1, \" samples already simulated\")\n",
    "    return result, t_s, x_trajs, y_trajs, np.array(t_arrivals)"
   ]
  },
  {
   "cell_type": "markdown",
   "metadata": {},
   "source": [
    "## Histogram of arrival time"
   ]
  },
  {
   "cell_type": "code",
   "execution_count": 83,
   "metadata": {},
   "outputs": [],
   "source": [
    "# t_arrival_dict = dict() # key: (T, FWHM); elements: a list of t_arrivals"
   ]
  },
  {
   "cell_type": "markdown",
   "metadata": {},
   "source": [
    "### 50K"
   ]
  },
  {
   "cell_type": "code",
   "execution_count": 99,
   "metadata": {},
   "outputs": [
    {
     "data": {
      "text/plain": [
       "(8.0, 11.0)"
      ]
     },
     "execution_count": 99,
     "metadata": {},
     "output_type": "execute_result"
    },
    {
     "data": {
      "image/png": "[encoded data removed]",
      "text/plain": [
       "<Figure size 432x288 with 1 Axes>"
      ]
     },
     "metadata": {},
     "output_type": "display_data"
    }
   ],
   "source": [
    "N = 1000\n",
    "T = 50.0 # Kelvin\n",
    "dt = 1.0e-11 #s\n",
    "t_max = 250.0e-9 # maximum time duration of the simulation\n",
    "FWHM = 100.0e-6\n",
    "bins = np.linspace(8, 11, 26)\n",
    "result, t_s, x_trajs, y_trajs, t_arrivals = fixedT_sim(N, T, dt, t_max, FWHM)\n",
    "if (T, FWHM) not in t_arrival_dict:\n",
    "    t_arrival_dict[(T, FWHM)] = []\n",
    "t_arrival_dict[(T, FWHM)] += list(t_arrivals) \n",
    "# Plotting\n",
    "omega_trap = 2*np.pi*230.0e6 # Hz\n",
    "U_avg = 0.5*m*(omega_trap)**2*(FWHM/2.355)**2\n",
    "T_eff = U_avg/kB + T\n",
    "plt.hist(t_arrivals*1.0e9, bins=bins, density=True)\n",
    "plt.xlabel(\"Arrival Time (ns)\")\n",
    "plt.title(\"$T_e = {}$K, $T(effective) = {}$K\".format(T, round(T_eff)))\n",
    "plt.xlim(bins[0], bins[-1])"
   ]
  },
  {
   "cell_type": "markdown",
   "metadata": {},
   "source": [
    "### 100K"
   ]
  },
  {
   "cell_type": "code",
   "execution_count": 100,
   "metadata": {},
   "outputs": [
    {
     "data": {
      "text/plain": [
       "(8.0, 11.0)"
      ]
     },
     "execution_count": 100,
     "metadata": {},
     "output_type": "execute_result"
    },
    {
     "data": {
      "image/png": "[encoded data removed]",
      "text/plain": [
       "<Figure size 432x288 with 1 Axes>"
      ]
     },
     "metadata": {},
     "output_type": "display_data"
    }
   ],
   "source": [
    "N = 1000\n",
    "T = 100.0 # Kelvin\n",
    "dt = 1.0e-11 #s\n",
    "t_max = 250.0e-9 # maximum time duration of the simulation\n",
    "FWHM = 100.0e-6\n",
    "bins = np.linspace(8, 11, 26)\n",
    "result, t_s, x_trajs, y_trajs, t_arrivals = fixedT_sim(N, T, dt, t_max, FWHM)\n",
    "if (T, FWHM) not in t_arrival_dict:\n",
    "    t_arrival_dict[(T, FWHM)] = []\n",
    "t_arrival_dict[(T, FWHM)] += list(t_arrivals) \n",
    "# Plotting\n",
    "omega_trap = 2*np.pi*230.0e6 # Hz\n",
    "U_avg = 0.5*m*(omega_trap)**2*(FWHM/2.355)**2\n",
    "T_eff = U_avg/kB + T\n",
    "plt.hist(t_arrivals*1.0e9, bins=bins, density=True)\n",
    "plt.xlabel(\"Arrival Time (ns)\")\n",
    "plt.title(\"$T_e = {}$K, $T(effective) = {}$K\".format(T, round(T_eff)))\n",
    "plt.xlim(bins[0], bins[-1])"
   ]
  },
  {
   "cell_type": "markdown",
   "metadata": {},
   "source": [
    "### 150K"
   ]
  },
  {
   "cell_type": "code",
   "execution_count": 101,
   "metadata": {},
   "outputs": [
    {
     "data": {
      "text/plain": [
       "(8.0, 11.0)"
      ]
     },
     "execution_count": 101,
     "metadata": {},
     "output_type": "execute_result"
    },
    {
     "data": {
      "image/png": "[encoded data removed]",
      "text/plain": [
       "<Figure size 432x288 with 1 Axes>"
      ]
     },
     "metadata": {},
     "output_type": "display_data"
    }
   ],
   "source": [
    "N = 1000\n",
    "T = 150.0 # Kelvin\n",
    "dt = 1.0e-11 #s\n",
    "t_max = 250.0e-9 # maximum time duration of the simulation\n",
    "FWHM = 100.0e-6\n",
    "bins = np.linspace(8, 11, 26)\n",
    "result, t_s, x_trajs, y_trajs, t_arrivals = fixedT_sim(N, T, dt, t_max, FWHM)\n",
    "if (T, FWHM) not in t_arrival_dict:\n",
    "    t_arrival_dict[(T, FWHM)] = []\n",
    "t_arrival_dict[(T, FWHM)] += list(t_arrivals) \n",
    "# Plotting\n",
    "omega_trap = 2*np.pi*230.0e6 # Hz\n",
    "U_avg = 0.5*m*(omega_trap)**2*(FWHM/2.355)**2\n",
    "T_eff = U_avg/kB + T\n",
    "plt.hist(t_arrivals*1.0e9, bins=bins, density=True)\n",
    "plt.xlabel(\"Arrival Time (ns)\")\n",
    "plt.title(\"$T_e = {}$K, $T(effective) = {}$K\".format(T, round(T_eff)))\n",
    "plt.xlim(bins[0], bins[-1])"
   ]
  },
  {
   "cell_type": "markdown",
   "metadata": {},
   "source": [
    "### 300K"
   ]
  },
  {
   "cell_type": "code",
   "execution_count": 102,
   "metadata": {},
   "outputs": [
    {
     "data": {
      "text/plain": [
       "(8.0, 11.0)"
      ]
     },
     "execution_count": 102,
     "metadata": {},
     "output_type": "execute_result"
    },
    {
     "data": {
      "image/png": "[encoded data removed]",
      "text/plain": [
       "<Figure size 432x288 with 1 Axes>"
      ]
     },
     "metadata": {},
     "output_type": "display_data"
    }
   ],
   "source": [
    "N = 1000\n",
    "T = 300.0 # Kelvin\n",
    "dt = 1.0e-11 #s\n",
    "t_max = 250.0e-9 # maximum time duration of the simulation\n",
    "FWHM = 100.0e-6\n",
    "bins = np.linspace(8, 11, 26)\n",
    "result, t_s, x_trajs, y_trajs, t_arrivals = fixedT_sim(N, T, dt, t_max, FWHM)\n",
    "if (T, FWHM) not in t_arrival_dict:\n",
    "    t_arrival_dict[(T, FWHM)] = []\n",
    "t_arrival_dict[(T, FWHM)] += list(t_arrivals) \n",
    "# Plotting\n",
    "omega_trap = 2*np.pi*230.0e6 # Hz\n",
    "U_avg = 0.5*m*(omega_trap)**2*(FWHM/2.355)**2\n",
    "T_eff = U_avg/kB + T\n",
    "plt.hist(t_arrivals*1.0e9, bins=bins, density=True)\n",
    "plt.xlabel(\"Arrival Time (ns)\")\n",
    "plt.title(\"$T_e = {}$K, $T(effective) = {}$K\".format(T, round(T_eff)))\n",
    "plt.xlim(bins[0], bins[-1])"
   ]
  },
  {
   "cell_type": "code",
   "execution_count": 103,
   "metadata": {},
   "outputs": [
    {
     "data": {
      "image/png": "[encoded data removed]",
      "text/plain": [
       "<Figure size 432x288 with 1 Axes>"
      ]
     },
     "metadata": {},
     "output_type": "display_data"
    },
    {
     "data": {
      "image/png": "[encoded data removed]",
      "text/plain": [
       "<Figure size 432x288 with 1 Axes>"
      ]
     },
     "metadata": {},
     "output_type": "display_data"
    },
    {
     "data": {
      "image/png": "[encoded data removed]",
      "text/plain": [
       "<Figure size 432x288 with 1 Axes>"
      ]
     },
     "metadata": {},
     "output_type": "display_data"
    },
    {
     "data": {
      "image/png": "[encoded data removed]",
      "text/plain": [
       "<Figure size 432x288 with 1 Axes>"
      ]
     },
     "metadata": {},
     "output_type": "display_data"
    }
   ],
   "source": [
    "omega_trap = 2*np.pi*230.0e6 # Hz\n",
    "U_avg = 0.5*m*(omega_trap)**2*(FWHM/2.355)**2\n",
    "bins = np.linspace(8, 11, 26)\n",
    "for T in [50, 100, 150, 300]:\n",
    "    plt.figure()\n",
    "    T_eff = U_avg/kB + T\n",
    "    plt.hist(np.array(t_arrival_dict[(T, FWHM)])*1.0e9, bins=bins, density=True)\n",
    "    plt.xlabel(\"Arrival Time (ns)\")\n",
    "    plt.title(\"$T_e = {}$K, $T(effective) = {}$K\".format(T, round(T_eff)))\n",
    "    plt.xlim(bins[0], bins[-1])\n",
    "    plt.ylim(0, 1.3)\n",
    "    plt.show()"
   ]
  },
  {
   "cell_type": "code",
   "execution_count": 98,
   "metadata": {},
   "outputs": [
    {
     "data": {
      "text/plain": [
       "[]"
      ]
     },
     "execution_count": 98,
     "metadata": {},
     "output_type": "execute_result"
    }
   ],
   "source": [
    "t_arrival_dict[(300, 100.0e-6)]"
   ]
  },
  {
   "cell_type": "code",
   "execution_count": null,
   "metadata": {},
   "outputs": [],
   "source": []
  }
 ],
 "metadata": {
  "kernelspec": {
   "display_name": "Python 3",
   "language": "python",
   "name": "python3"
  },
  "language_info": {
   "codemirror_mode": {
    "name": "ipython",
    "version": 3
   },
   "file_extension": ".py",
   "mimetype": "text/x-python",
   "name": "python",
   "nbconvert_exporter": "python",
   "pygments_lexer": "ipython3",
   "version": "3.6.5"
  }
 },
 "nbformat": 4,
 "nbformat_minor": 2
}
